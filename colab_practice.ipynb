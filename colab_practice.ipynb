{
  "nbformat": 4,
  "nbformat_minor": 0,
  "metadata": {
    "colab": {
      "provenance": [],
      "include_colab_link": true
    },
    "kernelspec": {
      "name": "python3",
      "display_name": "Python 3"
    },
    "language_info": {
      "name": "python"
    }
  },
  "cells": [
    {
      "cell_type": "markdown",
      "metadata": {
        "id": "view-in-github",
        "colab_type": "text"
      },
      "source": [
        "<a href=\"https://colab.research.google.com/github/tiffanyfu7/legalduel-1b-ai-studio/blob/main/colab_practice.ipynb\" target=\"_parent\"><img src=\"https://colab.research.google.com/assets/colab-badge.svg\" alt=\"Open In Colab\"/></a>"
      ]
    },
    {
      "cell_type": "code",
      "execution_count": null,
      "metadata": {
        "id": "nMT1QqDWHNRi",
        "outputId": "8779c5ed-88bf-4006-858f-20de45bf56ae",
        "colab": {
          "base_uri": "https://localhost:8080/"
        }
      },
      "outputs": [
        {
          "output_type": "stream",
          "name": "stdout",
          "text": [
            "Hello, World\n",
            "hi\n"
          ]
        }
      ],
      "source": [
        "print(\"Hello, World\")\n",
        "print(\"hi\")"
      ]
    },
    {
      "cell_type": "code",
      "source": [
        "print('adding a cell')"
      ],
      "metadata": {
        "id": "vgdaLtM2HRve"
      },
      "execution_count": null,
      "outputs": []
    }
  ]
}