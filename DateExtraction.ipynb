{
  "nbformat": 4,
  "nbformat_minor": 0,
  "metadata": {
    "colab": {
      "provenance": [],
      "include_colab_link": true
    },
    "kernelspec": {
      "name": "python3",
      "display_name": "Python 3"
    },
    "language_info": {
      "name": "python"
    },
    "widgets": {
      "application/vnd.jupyter.widget-state+json": {
        "5c13e97dfede43fea5e056eff4eb7920": {
          "model_module": "@jupyter-widgets/controls",
          "model_name": "HBoxModel",
          "model_module_version": "1.5.0",
          "state": {
            "_dom_classes": [],
            "_model_module": "@jupyter-widgets/controls",
            "_model_module_version": "1.5.0",
            "_model_name": "HBoxModel",
            "_view_count": null,
            "_view_module": "@jupyter-widgets/controls",
            "_view_module_version": "1.5.0",
            "_view_name": "HBoxView",
            "box_style": "",
            "children": [
              "IPY_MODEL_058d60ddf27043eb9079d7cfeddb0287",
              "IPY_MODEL_6c5aa951aa7f4a88a682055390a6fe3d",
              "IPY_MODEL_50658dece5ef40379b14e16fcbd4e217"
            ],
            "layout": "IPY_MODEL_1b30c316b54a4947a589a82d6500984a"
          }
        },
        "058d60ddf27043eb9079d7cfeddb0287": {
          "model_module": "@jupyter-widgets/controls",
          "model_name": "HTMLModel",
          "model_module_version": "1.5.0",
          "state": {
            "_dom_classes": [],
            "_model_module": "@jupyter-widgets/controls",
            "_model_module_version": "1.5.0",
            "_model_name": "HTMLModel",
            "_view_count": null,
            "_view_module": "@jupyter-widgets/controls",
            "_view_module_version": "1.5.0",
            "_view_name": "HTMLView",
            "description": "",
            "description_tooltip": null,
            "layout": "IPY_MODEL_d656156f46d7417289dbe2b04db4f9eb",
            "placeholder": "​",
            "style": "IPY_MODEL_f9b40e36e6ad43bf9c56d6a8ca24e47c",
            "value": "Downloading https://raw.githubusercontent.com/stanfordnlp/stanza-resources/main/resources_1.9.0.json: "
          }
        },
        "6c5aa951aa7f4a88a682055390a6fe3d": {
          "model_module": "@jupyter-widgets/controls",
          "model_name": "FloatProgressModel",
          "model_module_version": "1.5.0",
          "state": {
            "_dom_classes": [],
            "_model_module": "@jupyter-widgets/controls",
            "_model_module_version": "1.5.0",
            "_model_name": "FloatProgressModel",
            "_view_count": null,
            "_view_module": "@jupyter-widgets/controls",
            "_view_module_version": "1.5.0",
            "_view_name": "ProgressView",
            "bar_style": "success",
            "description": "",
            "description_tooltip": null,
            "layout": "IPY_MODEL_7d1dbecb8dd54beb8a8a16dc78e39432",
            "max": 48453,
            "min": 0,
            "orientation": "horizontal",
            "style": "IPY_MODEL_c081bb89e0c742d28c301838208a1268",
            "value": 48453
          }
        },
        "50658dece5ef40379b14e16fcbd4e217": {
          "model_module": "@jupyter-widgets/controls",
          "model_name": "HTMLModel",
          "model_module_version": "1.5.0",
          "state": {
            "_dom_classes": [],
            "_model_module": "@jupyter-widgets/controls",
            "_model_module_version": "1.5.0",
            "_model_name": "HTMLModel",
            "_view_count": null,
            "_view_module": "@jupyter-widgets/controls",
            "_view_module_version": "1.5.0",
            "_view_name": "HTMLView",
            "description": "",
            "description_tooltip": null,
            "layout": "IPY_MODEL_78d6cbbef0564a739a05a92a3418964b",
            "placeholder": "​",
            "style": "IPY_MODEL_aaf081ea2ac44a24a15ea780f5f5a4fa",
            "value": " 392k/? [00:00&lt;00:00, 10.8MB/s]"
          }
        },
        "1b30c316b54a4947a589a82d6500984a": {
          "model_module": "@jupyter-widgets/base",
          "model_name": "LayoutModel",
          "model_module_version": "1.2.0",
          "state": {
            "_model_module": "@jupyter-widgets/base",
            "_model_module_version": "1.2.0",
            "_model_name": "LayoutModel",
            "_view_count": null,
            "_view_module": "@jupyter-widgets/base",
            "_view_module_version": "1.2.0",
            "_view_name": "LayoutView",
            "align_content": null,
            "align_items": null,
            "align_self": null,
            "border": null,
            "bottom": null,
            "display": null,
            "flex": null,
            "flex_flow": null,
            "grid_area": null,
            "grid_auto_columns": null,
            "grid_auto_flow": null,
            "grid_auto_rows": null,
            "grid_column": null,
            "grid_gap": null,
            "grid_row": null,
            "grid_template_areas": null,
            "grid_template_columns": null,
            "grid_template_rows": null,
            "height": null,
            "justify_content": null,
            "justify_items": null,
            "left": null,
            "margin": null,
            "max_height": null,
            "max_width": null,
            "min_height": null,
            "min_width": null,
            "object_fit": null,
            "object_position": null,
            "order": null,
            "overflow": null,
            "overflow_x": null,
            "overflow_y": null,
            "padding": null,
            "right": null,
            "top": null,
            "visibility": null,
            "width": null
          }
        },
        "d656156f46d7417289dbe2b04db4f9eb": {
          "model_module": "@jupyter-widgets/base",
          "model_name": "LayoutModel",
          "model_module_version": "1.2.0",
          "state": {
            "_model_module": "@jupyter-widgets/base",
            "_model_module_version": "1.2.0",
            "_model_name": "LayoutModel",
            "_view_count": null,
            "_view_module": "@jupyter-widgets/base",
            "_view_module_version": "1.2.0",
            "_view_name": "LayoutView",
            "align_content": null,
            "align_items": null,
            "align_self": null,
            "border": null,
            "bottom": null,
            "display": null,
            "flex": null,
            "flex_flow": null,
            "grid_area": null,
            "grid_auto_columns": null,
            "grid_auto_flow": null,
            "grid_auto_rows": null,
            "grid_column": null,
            "grid_gap": null,
            "grid_row": null,
            "grid_template_areas": null,
            "grid_template_columns": null,
            "grid_template_rows": null,
            "height": null,
            "justify_content": null,
            "justify_items": null,
            "left": null,
            "margin": null,
            "max_height": null,
            "max_width": null,
            "min_height": null,
            "min_width": null,
            "object_fit": null,
            "object_position": null,
            "order": null,
            "overflow": null,
            "overflow_x": null,
            "overflow_y": null,
            "padding": null,
            "right": null,
            "top": null,
            "visibility": null,
            "width": null
          }
        },
        "f9b40e36e6ad43bf9c56d6a8ca24e47c": {
          "model_module": "@jupyter-widgets/controls",
          "model_name": "DescriptionStyleModel",
          "model_module_version": "1.5.0",
          "state": {
            "_model_module": "@jupyter-widgets/controls",
            "_model_module_version": "1.5.0",
            "_model_name": "DescriptionStyleModel",
            "_view_count": null,
            "_view_module": "@jupyter-widgets/base",
            "_view_module_version": "1.2.0",
            "_view_name": "StyleView",
            "description_width": ""
          }
        },
        "7d1dbecb8dd54beb8a8a16dc78e39432": {
          "model_module": "@jupyter-widgets/base",
          "model_name": "LayoutModel",
          "model_module_version": "1.2.0",
          "state": {
            "_model_module": "@jupyter-widgets/base",
            "_model_module_version": "1.2.0",
            "_model_name": "LayoutModel",
            "_view_count": null,
            "_view_module": "@jupyter-widgets/base",
            "_view_module_version": "1.2.0",
            "_view_name": "LayoutView",
            "align_content": null,
            "align_items": null,
            "align_self": null,
            "border": null,
            "bottom": null,
            "display": null,
            "flex": null,
            "flex_flow": null,
            "grid_area": null,
            "grid_auto_columns": null,
            "grid_auto_flow": null,
            "grid_auto_rows": null,
            "grid_column": null,
            "grid_gap": null,
            "grid_row": null,
            "grid_template_areas": null,
            "grid_template_columns": null,
            "grid_template_rows": null,
            "height": null,
            "justify_content": null,
            "justify_items": null,
            "left": null,
            "margin": null,
            "max_height": null,
            "max_width": null,
            "min_height": null,
            "min_width": null,
            "object_fit": null,
            "object_position": null,
            "order": null,
            "overflow": null,
            "overflow_x": null,
            "overflow_y": null,
            "padding": null,
            "right": null,
            "top": null,
            "visibility": null,
            "width": null
          }
        },
        "c081bb89e0c742d28c301838208a1268": {
          "model_module": "@jupyter-widgets/controls",
          "model_name": "ProgressStyleModel",
          "model_module_version": "1.5.0",
          "state": {
            "_model_module": "@jupyter-widgets/controls",
            "_model_module_version": "1.5.0",
            "_model_name": "ProgressStyleModel",
            "_view_count": null,
            "_view_module": "@jupyter-widgets/base",
            "_view_module_version": "1.2.0",
            "_view_name": "StyleView",
            "bar_color": null,
            "description_width": ""
          }
        },
        "78d6cbbef0564a739a05a92a3418964b": {
          "model_module": "@jupyter-widgets/base",
          "model_name": "LayoutModel",
          "model_module_version": "1.2.0",
          "state": {
            "_model_module": "@jupyter-widgets/base",
            "_model_module_version": "1.2.0",
            "_model_name": "LayoutModel",
            "_view_count": null,
            "_view_module": "@jupyter-widgets/base",
            "_view_module_version": "1.2.0",
            "_view_name": "LayoutView",
            "align_content": null,
            "align_items": null,
            "align_self": null,
            "border": null,
            "bottom": null,
            "display": null,
            "flex": null,
            "flex_flow": null,
            "grid_area": null,
            "grid_auto_columns": null,
            "grid_auto_flow": null,
            "grid_auto_rows": null,
            "grid_column": null,
            "grid_gap": null,
            "grid_row": null,
            "grid_template_areas": null,
            "grid_template_columns": null,
            "grid_template_rows": null,
            "height": null,
            "justify_content": null,
            "justify_items": null,
            "left": null,
            "margin": null,
            "max_height": null,
            "max_width": null,
            "min_height": null,
            "min_width": null,
            "object_fit": null,
            "object_position": null,
            "order": null,
            "overflow": null,
            "overflow_x": null,
            "overflow_y": null,
            "padding": null,
            "right": null,
            "top": null,
            "visibility": null,
            "width": null
          }
        },
        "aaf081ea2ac44a24a15ea780f5f5a4fa": {
          "model_module": "@jupyter-widgets/controls",
          "model_name": "DescriptionStyleModel",
          "model_module_version": "1.5.0",
          "state": {
            "_model_module": "@jupyter-widgets/controls",
            "_model_module_version": "1.5.0",
            "_model_name": "DescriptionStyleModel",
            "_view_count": null,
            "_view_module": "@jupyter-widgets/base",
            "_view_module_version": "1.2.0",
            "_view_name": "StyleView",
            "description_width": ""
          }
        }
      }
    }
  },
  "cells": [
    {
      "cell_type": "markdown",
      "metadata": {
        "id": "view-in-github",
        "colab_type": "text"
      },
      "source": [
        "<a href=\"https://colab.research.google.com/github/tiffanyfu7/legalduel-1b-ai-studio/blob/main/DateExtraction.ipynb\" target=\"_parent\"><img src=\"https://colab.research.google.com/assets/colab-badge.svg\" alt=\"Open In Colab\"/></a>"
      ]
    },
    {
      "cell_type": "markdown",
      "source": [
        "Trying to extract dates from a document.\n",
        "Some methods may include SpaCy, Duckling (Meta), Spark, or Stanford CoreNLP. There may be other ways but try these ones first.\n",
        "\n"
      ],
      "metadata": {
        "id": "3PAoybl6iC6Z"
      }
    },
    {
      "cell_type": "markdown",
      "source": [
        "# SpaCy"
      ],
      "metadata": {
        "id": "B_FYQLYToozb"
      }
    },
    {
      "cell_type": "markdown",
      "source": [
        "https://www.qualicen.de/natural-language-processing-timeline-extraction-with-regexes-and-spacy/"
      ],
      "metadata": {
        "id": "2V2jf4T8cRwN"
      }
    },
    {
      "cell_type": "code",
      "source": [
        "# install\n",
        "def _pip_magic(line):\n",
        "  !pip install {line}\n",
        "\n",
        "_pip_magic('daterangeparser')\n",
        "_pip_magic('spacy')\n",
        "_pip_magic('en_core_web_sm')"
      ],
      "metadata": {
        "colab": {
          "base_uri": "https://localhost:8080/"
        },
        "id": "8QoPPKYwc25t",
        "outputId": "b8d51c55-c9ee-48bb-da7a-c12b3aed0139",
        "collapsed": true
      },
      "execution_count": null,
      "outputs": [
        {
          "output_type": "stream",
          "name": "stdout",
          "text": [
            "Collecting daterangeparser\n",
            "  Downloading DateRangeParser-1.3.2-py3-none-any.whl.metadata (1.5 kB)\n",
            "Requirement already satisfied: pyparsing in /usr/local/lib/python3.10/dist-packages (from daterangeparser) (3.1.4)\n",
            "Downloading DateRangeParser-1.3.2-py3-none-any.whl (23 kB)\n",
            "Installing collected packages: daterangeparser\n",
            "Successfully installed daterangeparser-1.3.2\n",
            "Requirement already satisfied: spacy in /usr/local/lib/python3.10/dist-packages (3.7.6)\n",
            "Requirement already satisfied: spacy-legacy<3.1.0,>=3.0.11 in /usr/local/lib/python3.10/dist-packages (from spacy) (3.0.12)\n",
            "Requirement already satisfied: spacy-loggers<2.0.0,>=1.0.0 in /usr/local/lib/python3.10/dist-packages (from spacy) (1.0.5)\n",
            "Requirement already satisfied: murmurhash<1.1.0,>=0.28.0 in /usr/local/lib/python3.10/dist-packages (from spacy) (1.0.10)\n",
            "Requirement already satisfied: cymem<2.1.0,>=2.0.2 in /usr/local/lib/python3.10/dist-packages (from spacy) (2.0.8)\n",
            "Requirement already satisfied: preshed<3.1.0,>=3.0.2 in /usr/local/lib/python3.10/dist-packages (from spacy) (3.0.9)\n",
            "Requirement already satisfied: thinc<8.3.0,>=8.2.2 in /usr/local/lib/python3.10/dist-packages (from spacy) (8.2.5)\n",
            "Requirement already satisfied: wasabi<1.2.0,>=0.9.1 in /usr/local/lib/python3.10/dist-packages (from spacy) (1.1.3)\n",
            "Requirement already satisfied: srsly<3.0.0,>=2.4.3 in /usr/local/lib/python3.10/dist-packages (from spacy) (2.4.8)\n",
            "Requirement already satisfied: catalogue<2.1.0,>=2.0.6 in /usr/local/lib/python3.10/dist-packages (from spacy) (2.0.10)\n",
            "Requirement already satisfied: weasel<0.5.0,>=0.1.0 in /usr/local/lib/python3.10/dist-packages (from spacy) (0.4.1)\n",
            "Requirement already satisfied: typer<1.0.0,>=0.3.0 in /usr/local/lib/python3.10/dist-packages (from spacy) (0.12.5)\n",
            "Requirement already satisfied: tqdm<5.0.0,>=4.38.0 in /usr/local/lib/python3.10/dist-packages (from spacy) (4.66.5)\n",
            "Requirement already satisfied: requests<3.0.0,>=2.13.0 in /usr/local/lib/python3.10/dist-packages (from spacy) (2.32.3)\n",
            "Requirement already satisfied: pydantic!=1.8,!=1.8.1,<3.0.0,>=1.7.4 in /usr/local/lib/python3.10/dist-packages (from spacy) (2.9.2)\n",
            "Requirement already satisfied: jinja2 in /usr/local/lib/python3.10/dist-packages (from spacy) (3.1.4)\n",
            "Requirement already satisfied: setuptools in /usr/local/lib/python3.10/dist-packages (from spacy) (71.0.4)\n",
            "Requirement already satisfied: packaging>=20.0 in /usr/local/lib/python3.10/dist-packages (from spacy) (24.1)\n",
            "Requirement already satisfied: langcodes<4.0.0,>=3.2.0 in /usr/local/lib/python3.10/dist-packages (from spacy) (3.4.0)\n",
            "Requirement already satisfied: numpy>=1.19.0 in /usr/local/lib/python3.10/dist-packages (from spacy) (1.26.4)\n",
            "Requirement already satisfied: language-data>=1.2 in /usr/local/lib/python3.10/dist-packages (from langcodes<4.0.0,>=3.2.0->spacy) (1.2.0)\n",
            "Requirement already satisfied: annotated-types>=0.6.0 in /usr/local/lib/python3.10/dist-packages (from pydantic!=1.8,!=1.8.1,<3.0.0,>=1.7.4->spacy) (0.7.0)\n",
            "Requirement already satisfied: pydantic-core==2.23.4 in /usr/local/lib/python3.10/dist-packages (from pydantic!=1.8,!=1.8.1,<3.0.0,>=1.7.4->spacy) (2.23.4)\n",
            "Requirement already satisfied: typing-extensions>=4.6.1 in /usr/local/lib/python3.10/dist-packages (from pydantic!=1.8,!=1.8.1,<3.0.0,>=1.7.4->spacy) (4.12.2)\n",
            "Requirement already satisfied: charset-normalizer<4,>=2 in /usr/local/lib/python3.10/dist-packages (from requests<3.0.0,>=2.13.0->spacy) (3.3.2)\n",
            "Requirement already satisfied: idna<4,>=2.5 in /usr/local/lib/python3.10/dist-packages (from requests<3.0.0,>=2.13.0->spacy) (3.10)\n",
            "Requirement already satisfied: urllib3<3,>=1.21.1 in /usr/local/lib/python3.10/dist-packages (from requests<3.0.0,>=2.13.0->spacy) (2.2.3)\n",
            "Requirement already satisfied: certifi>=2017.4.17 in /usr/local/lib/python3.10/dist-packages (from requests<3.0.0,>=2.13.0->spacy) (2024.8.30)\n",
            "Requirement already satisfied: blis<0.8.0,>=0.7.8 in /usr/local/lib/python3.10/dist-packages (from thinc<8.3.0,>=8.2.2->spacy) (0.7.11)\n",
            "Requirement already satisfied: confection<1.0.0,>=0.0.1 in /usr/local/lib/python3.10/dist-packages (from thinc<8.3.0,>=8.2.2->spacy) (0.1.5)\n",
            "Requirement already satisfied: click>=8.0.0 in /usr/local/lib/python3.10/dist-packages (from typer<1.0.0,>=0.3.0->spacy) (8.1.7)\n",
            "Requirement already satisfied: shellingham>=1.3.0 in /usr/local/lib/python3.10/dist-packages (from typer<1.0.0,>=0.3.0->spacy) (1.5.4)\n",
            "Requirement already satisfied: rich>=10.11.0 in /usr/local/lib/python3.10/dist-packages (from typer<1.0.0,>=0.3.0->spacy) (13.8.1)\n",
            "Requirement already satisfied: cloudpathlib<1.0.0,>=0.7.0 in /usr/local/lib/python3.10/dist-packages (from weasel<0.5.0,>=0.1.0->spacy) (0.19.0)\n",
            "Requirement already satisfied: smart-open<8.0.0,>=5.2.1 in /usr/local/lib/python3.10/dist-packages (from weasel<0.5.0,>=0.1.0->spacy) (7.0.4)\n",
            "Requirement already satisfied: MarkupSafe>=2.0 in /usr/local/lib/python3.10/dist-packages (from jinja2->spacy) (2.1.5)\n",
            "Requirement already satisfied: marisa-trie>=0.7.7 in /usr/local/lib/python3.10/dist-packages (from language-data>=1.2->langcodes<4.0.0,>=3.2.0->spacy) (1.2.0)\n",
            "Requirement already satisfied: markdown-it-py>=2.2.0 in /usr/local/lib/python3.10/dist-packages (from rich>=10.11.0->typer<1.0.0,>=0.3.0->spacy) (3.0.0)\n",
            "Requirement already satisfied: pygments<3.0.0,>=2.13.0 in /usr/local/lib/python3.10/dist-packages (from rich>=10.11.0->typer<1.0.0,>=0.3.0->spacy) (2.18.0)\n",
            "Requirement already satisfied: wrapt in /usr/local/lib/python3.10/dist-packages (from smart-open<8.0.0,>=5.2.1->weasel<0.5.0,>=0.1.0->spacy) (1.16.0)\n",
            "Requirement already satisfied: mdurl~=0.1 in /usr/local/lib/python3.10/dist-packages (from markdown-it-py>=2.2.0->rich>=10.11.0->typer<1.0.0,>=0.3.0->spacy) (0.1.2)\n",
            "Requirement already satisfied: en_core_web_sm in /usr/local/lib/python3.10/dist-packages (3.7.1)\n",
            "Requirement already satisfied: spacy<3.8.0,>=3.7.2 in /usr/local/lib/python3.10/dist-packages (from en_core_web_sm) (3.7.6)\n",
            "Requirement already satisfied: spacy-legacy<3.1.0,>=3.0.11 in /usr/local/lib/python3.10/dist-packages (from spacy<3.8.0,>=3.7.2->en_core_web_sm) (3.0.12)\n",
            "Requirement already satisfied: spacy-loggers<2.0.0,>=1.0.0 in /usr/local/lib/python3.10/dist-packages (from spacy<3.8.0,>=3.7.2->en_core_web_sm) (1.0.5)\n",
            "Requirement already satisfied: murmurhash<1.1.0,>=0.28.0 in /usr/local/lib/python3.10/dist-packages (from spacy<3.8.0,>=3.7.2->en_core_web_sm) (1.0.10)\n",
            "Requirement already satisfied: cymem<2.1.0,>=2.0.2 in /usr/local/lib/python3.10/dist-packages (from spacy<3.8.0,>=3.7.2->en_core_web_sm) (2.0.8)\n",
            "Requirement already satisfied: preshed<3.1.0,>=3.0.2 in /usr/local/lib/python3.10/dist-packages (from spacy<3.8.0,>=3.7.2->en_core_web_sm) (3.0.9)\n",
            "Requirement already satisfied: thinc<8.3.0,>=8.2.2 in /usr/local/lib/python3.10/dist-packages (from spacy<3.8.0,>=3.7.2->en_core_web_sm) (8.2.5)\n",
            "Requirement already satisfied: wasabi<1.2.0,>=0.9.1 in /usr/local/lib/python3.10/dist-packages (from spacy<3.8.0,>=3.7.2->en_core_web_sm) (1.1.3)\n",
            "Requirement already satisfied: srsly<3.0.0,>=2.4.3 in /usr/local/lib/python3.10/dist-packages (from spacy<3.8.0,>=3.7.2->en_core_web_sm) (2.4.8)\n",
            "Requirement already satisfied: catalogue<2.1.0,>=2.0.6 in /usr/local/lib/python3.10/dist-packages (from spacy<3.8.0,>=3.7.2->en_core_web_sm) (2.0.10)\n",
            "Requirement already satisfied: weasel<0.5.0,>=0.1.0 in /usr/local/lib/python3.10/dist-packages (from spacy<3.8.0,>=3.7.2->en_core_web_sm) (0.4.1)\n",
            "Requirement already satisfied: typer<1.0.0,>=0.3.0 in /usr/local/lib/python3.10/dist-packages (from spacy<3.8.0,>=3.7.2->en_core_web_sm) (0.12.5)\n",
            "Requirement already satisfied: tqdm<5.0.0,>=4.38.0 in /usr/local/lib/python3.10/dist-packages (from spacy<3.8.0,>=3.7.2->en_core_web_sm) (4.66.5)\n",
            "Requirement already satisfied: requests<3.0.0,>=2.13.0 in /usr/local/lib/python3.10/dist-packages (from spacy<3.8.0,>=3.7.2->en_core_web_sm) (2.32.3)\n",
            "Requirement already satisfied: pydantic!=1.8,!=1.8.1,<3.0.0,>=1.7.4 in /usr/local/lib/python3.10/dist-packages (from spacy<3.8.0,>=3.7.2->en_core_web_sm) (2.9.2)\n",
            "Requirement already satisfied: jinja2 in /usr/local/lib/python3.10/dist-packages (from spacy<3.8.0,>=3.7.2->en_core_web_sm) (3.1.4)\n",
            "Requirement already satisfied: setuptools in /usr/local/lib/python3.10/dist-packages (from spacy<3.8.0,>=3.7.2->en_core_web_sm) (71.0.4)\n",
            "Requirement already satisfied: packaging>=20.0 in /usr/local/lib/python3.10/dist-packages (from spacy<3.8.0,>=3.7.2->en_core_web_sm) (24.1)\n",
            "Requirement already satisfied: langcodes<4.0.0,>=3.2.0 in /usr/local/lib/python3.10/dist-packages (from spacy<3.8.0,>=3.7.2->en_core_web_sm) (3.4.0)\n",
            "Requirement already satisfied: numpy>=1.19.0 in /usr/local/lib/python3.10/dist-packages (from spacy<3.8.0,>=3.7.2->en_core_web_sm) (1.26.4)\n",
            "Requirement already satisfied: language-data>=1.2 in /usr/local/lib/python3.10/dist-packages (from langcodes<4.0.0,>=3.2.0->spacy<3.8.0,>=3.7.2->en_core_web_sm) (1.2.0)\n",
            "Requirement already satisfied: annotated-types>=0.6.0 in /usr/local/lib/python3.10/dist-packages (from pydantic!=1.8,!=1.8.1,<3.0.0,>=1.7.4->spacy<3.8.0,>=3.7.2->en_core_web_sm) (0.7.0)\n",
            "Requirement already satisfied: pydantic-core==2.23.4 in /usr/local/lib/python3.10/dist-packages (from pydantic!=1.8,!=1.8.1,<3.0.0,>=1.7.4->spacy<3.8.0,>=3.7.2->en_core_web_sm) (2.23.4)\n",
            "Requirement already satisfied: typing-extensions>=4.6.1 in /usr/local/lib/python3.10/dist-packages (from pydantic!=1.8,!=1.8.1,<3.0.0,>=1.7.4->spacy<3.8.0,>=3.7.2->en_core_web_sm) (4.12.2)\n",
            "Requirement already satisfied: charset-normalizer<4,>=2 in /usr/local/lib/python3.10/dist-packages (from requests<3.0.0,>=2.13.0->spacy<3.8.0,>=3.7.2->en_core_web_sm) (3.3.2)\n",
            "Requirement already satisfied: idna<4,>=2.5 in /usr/local/lib/python3.10/dist-packages (from requests<3.0.0,>=2.13.0->spacy<3.8.0,>=3.7.2->en_core_web_sm) (3.10)\n",
            "Requirement already satisfied: urllib3<3,>=1.21.1 in /usr/local/lib/python3.10/dist-packages (from requests<3.0.0,>=2.13.0->spacy<3.8.0,>=3.7.2->en_core_web_sm) (2.2.3)\n",
            "Requirement already satisfied: certifi>=2017.4.17 in /usr/local/lib/python3.10/dist-packages (from requests<3.0.0,>=2.13.0->spacy<3.8.0,>=3.7.2->en_core_web_sm) (2024.8.30)\n",
            "Requirement already satisfied: blis<0.8.0,>=0.7.8 in /usr/local/lib/python3.10/dist-packages (from thinc<8.3.0,>=8.2.2->spacy<3.8.0,>=3.7.2->en_core_web_sm) (0.7.11)\n",
            "Requirement already satisfied: confection<1.0.0,>=0.0.1 in /usr/local/lib/python3.10/dist-packages (from thinc<8.3.0,>=8.2.2->spacy<3.8.0,>=3.7.2->en_core_web_sm) (0.1.5)\n",
            "Requirement already satisfied: click>=8.0.0 in /usr/local/lib/python3.10/dist-packages (from typer<1.0.0,>=0.3.0->spacy<3.8.0,>=3.7.2->en_core_web_sm) (8.1.7)\n",
            "Requirement already satisfied: shellingham>=1.3.0 in /usr/local/lib/python3.10/dist-packages (from typer<1.0.0,>=0.3.0->spacy<3.8.0,>=3.7.2->en_core_web_sm) (1.5.4)\n",
            "Requirement already satisfied: rich>=10.11.0 in /usr/local/lib/python3.10/dist-packages (from typer<1.0.0,>=0.3.0->spacy<3.8.0,>=3.7.2->en_core_web_sm) (13.8.1)\n",
            "Requirement already satisfied: cloudpathlib<1.0.0,>=0.7.0 in /usr/local/lib/python3.10/dist-packages (from weasel<0.5.0,>=0.1.0->spacy<3.8.0,>=3.7.2->en_core_web_sm) (0.19.0)\n",
            "Requirement already satisfied: smart-open<8.0.0,>=5.2.1 in /usr/local/lib/python3.10/dist-packages (from weasel<0.5.0,>=0.1.0->spacy<3.8.0,>=3.7.2->en_core_web_sm) (7.0.4)\n",
            "Requirement already satisfied: MarkupSafe>=2.0 in /usr/local/lib/python3.10/dist-packages (from jinja2->spacy<3.8.0,>=3.7.2->en_core_web_sm) (2.1.5)\n",
            "Requirement already satisfied: marisa-trie>=0.7.7 in /usr/local/lib/python3.10/dist-packages (from language-data>=1.2->langcodes<4.0.0,>=3.2.0->spacy<3.8.0,>=3.7.2->en_core_web_sm) (1.2.0)\n",
            "Requirement already satisfied: markdown-it-py>=2.2.0 in /usr/local/lib/python3.10/dist-packages (from rich>=10.11.0->typer<1.0.0,>=0.3.0->spacy<3.8.0,>=3.7.2->en_core_web_sm) (3.0.0)\n",
            "Requirement already satisfied: pygments<3.0.0,>=2.13.0 in /usr/local/lib/python3.10/dist-packages (from rich>=10.11.0->typer<1.0.0,>=0.3.0->spacy<3.8.0,>=3.7.2->en_core_web_sm) (2.18.0)\n",
            "Requirement already satisfied: wrapt in /usr/local/lib/python3.10/dist-packages (from smart-open<8.0.0,>=5.2.1->weasel<0.5.0,>=0.1.0->spacy<3.8.0,>=3.7.2->en_core_web_sm) (1.16.0)\n",
            "Requirement already satisfied: mdurl~=0.1 in /usr/local/lib/python3.10/dist-packages (from markdown-it-py>=2.2.0->rich>=10.11.0->typer<1.0.0,>=0.3.0->spacy<3.8.0,>=3.7.2->en_core_web_sm) (0.1.2)\n"
          ]
        }
      ]
    },
    {
      "cell_type": "code",
      "source": [
        "# imports\n",
        "import re\n",
        "import spacy\n",
        "import requests\n",
        "import IPython\n",
        "from daterangeparser import parse"
      ],
      "metadata": {
        "id": "6ZBajRjuc-Kb"
      },
      "execution_count": null,
      "outputs": []
    },
    {
      "cell_type": "code",
      "source": [
        "# import txt file\n",
        "chronology_facts_1 = open('/content/Chronology_Facts_1.txt', 'r')\n",
        "\n",
        "nlp = spacy.load('en_core_web_sm')\n",
        "doc_1 = nlp(chronology_facts_1.read())"
      ],
      "metadata": {
        "id": "ek9U5xz1o3dT",
        "colab": {
          "base_uri": "https://localhost:8080/",
          "height": 211
        },
        "outputId": "d2cc6e11-bd83-4a78-d6e6-6525fb497492",
        "collapsed": true
      },
      "execution_count": null,
      "outputs": [
        {
          "output_type": "error",
          "ename": "FileNotFoundError",
          "evalue": "[Errno 2] No such file or directory: '/content/Chronology_Facts_1.txt'",
          "traceback": [
            "\u001b[0;31m---------------------------------------------------------------------------\u001b[0m",
            "\u001b[0;31mFileNotFoundError\u001b[0m                         Traceback (most recent call last)",
            "\u001b[0;32m<ipython-input-3-b93f8ff6f485>\u001b[0m in \u001b[0;36m<cell line: 2>\u001b[0;34m()\u001b[0m\n\u001b[1;32m      1\u001b[0m \u001b[0;31m# import txt file\u001b[0m\u001b[0;34m\u001b[0m\u001b[0;34m\u001b[0m\u001b[0m\n\u001b[0;32m----> 2\u001b[0;31m \u001b[0mchronology_facts_1\u001b[0m \u001b[0;34m=\u001b[0m \u001b[0mopen\u001b[0m\u001b[0;34m(\u001b[0m\u001b[0;34m'/content/Chronology_Facts_1.txt'\u001b[0m\u001b[0;34m,\u001b[0m \u001b[0;34m'r'\u001b[0m\u001b[0;34m)\u001b[0m\u001b[0;34m\u001b[0m\u001b[0;34m\u001b[0m\u001b[0m\n\u001b[0m\u001b[1;32m      3\u001b[0m \u001b[0;34m\u001b[0m\u001b[0m\n\u001b[1;32m      4\u001b[0m \u001b[0mnlp\u001b[0m \u001b[0;34m=\u001b[0m \u001b[0mspacy\u001b[0m\u001b[0;34m.\u001b[0m\u001b[0mload\u001b[0m\u001b[0;34m(\u001b[0m\u001b[0;34m'en_core_web_sm'\u001b[0m\u001b[0;34m)\u001b[0m\u001b[0;34m\u001b[0m\u001b[0;34m\u001b[0m\u001b[0m\n\u001b[1;32m      5\u001b[0m \u001b[0mdoc_1\u001b[0m \u001b[0;34m=\u001b[0m \u001b[0mnlp\u001b[0m\u001b[0;34m(\u001b[0m\u001b[0mchronology_facts_1\u001b[0m\u001b[0;34m.\u001b[0m\u001b[0mread\u001b[0m\u001b[0;34m(\u001b[0m\u001b[0;34m)\u001b[0m\u001b[0;34m)\u001b[0m\u001b[0;34m\u001b[0m\u001b[0;34m\u001b[0m\u001b[0m\n",
            "\u001b[0;31mFileNotFoundError\u001b[0m: [Errno 2] No such file or directory: '/content/Chronology_Facts_1.txt'"
          ]
        }
      ]
    },
    {
      "cell_type": "code",
      "source": [
        "# named entities\n",
        "for ent in doc_1.ents:\n",
        "  print(\"{} -> {}\".format(ent.text,ent.label_))"
      ],
      "metadata": {
        "colab": {
          "base_uri": "https://localhost:8080/"
        },
        "id": "z4BkK_kjdb40",
        "outputId": "80bdd3a6-d035-445f-ab2d-81478f4edb1b",
        "collapsed": true
      },
      "execution_count": null,
      "outputs": [
        {
          "output_type": "stream",
          "name": "stdout",
          "text": [
            "January 15, 2021 -> DATE\n",
            "James Rosco -> PERSON\n",
            "UltraGuard -> WORK_OF_ART\n",
            "AutoMart -> PRODUCT\n",
            "Albany -> GPE\n",
            "New York -> GPE\n",
            "LubriTech Industries, Inc. -> ORG\n",
            "LubriTech -> ORG\n",
            "2020 -> DATE\n",
            "Ford -> GPE\n",
            "January 20, 2021 -> DATE\n",
            "Speedy Lube -> PRODUCT\n",
            "Albany -> GPE\n",
            "February 5, 2021 -> DATE\n",
            "Speedy Lube -> PERSON\n",
            "February 7, 2021 -> DATE\n",
            "February 15, 2021 -> DATE\n",
            "the New York State Thruway -> ORG\n",
            "Three days later -> DATE\n",
            "Albany Auto Repair -> ORG\n",
            "February 16, 2021 -> DATE\n",
            "February 18, 2021 -> DATE\n",
            "March 1, 2021 -> DATE\n",
            "LubriTech -> ORG\n",
            "LubriTech -> ORG\n",
            "March 10, 2021 -> DATE\n",
            "ChemTest Labs -> PERSON\n",
            "March 25, 2021 -> DATE\n",
            "April 2, 2021 -> DATE\n",
            "the New York State Department of Consumer Protection -> ORG\n",
            "LubriTech -> ORG\n",
            "May 15, 2021 -> DATE\n",
            "ChemTest Labs -> ORG\n",
            "December 10, 2020 -> DATE\n",
            "the end of that month -> DATE\n",
            "the day before June 2, 2021 -> DATE\n",
            "LubriTech -> ORG\n",
            "the Supreme Court of New York -> ORG\n",
            "Albany County -> GPE\n",
            "Emily Thompson -> PERSON\n",
            "July 10, 2021 -> DATE\n",
            "8/1/2021 -> DATE\n",
            "LubriTech -> ORG\n",
            "LubriTech -> ORG\n",
            "August 15, 2021 -> DATE\n",
            "September 5, 2021 -> DATE\n",
            "LubriTech -> ORG\n",
            "December 20, 2020 -> DATE\n",
            "LubriTech -> ORG\n",
            "October 10, 2021 -> DATE\n",
            "three weeks -> DATE\n",
            "October 31, 2021 -> DATE\n",
            "100,000 -> CARDINAL\n",
            "LubriTech -> ORG\n",
            "November 15, 2021 -> DATE\n",
            "The Appellate Division -> ORG\n",
            "January 10, 2022 -> DATE\n",
            "two weeks -> DATE\n",
            "three days later -> DATE\n",
            "LubriTech -> ORG\n",
            "the New York Court of Appeals -> ORG\n",
            "March 15, 2022 -> DATE\n",
            "Three days later -> DATE\n",
            "the New York Court of Appeals -> ORG\n",
            "June 10, 2024 -> DATE\n",
            "LubriTech -> ORG\n"
          ]
        }
      ]
    },
    {
      "cell_type": "code",
      "source": [
        "# date entities\n",
        "for ent in filter(lambda e: e.label_==\"DATE\", doc_1.ents):\n",
        "  print(ent.text)"
      ],
      "metadata": {
        "colab": {
          "base_uri": "https://localhost:8080/"
        },
        "id": "LO4P1THadgqb",
        "outputId": "50154aa0-d351-46aa-a440-60dca5b991a8",
        "collapsed": true
      },
      "execution_count": null,
      "outputs": [
        {
          "output_type": "stream",
          "name": "stdout",
          "text": [
            "January 15, 2021\n",
            "2020\n",
            "January 20, 2021\n",
            "February 5, 2021\n",
            "February 7, 2021\n",
            "February 15, 2021\n",
            "Three days later\n",
            "February 16, 2021\n",
            "February 18, 2021\n",
            "March 1, 2021\n",
            "March 10, 2021\n",
            "March 25, 2021\n",
            "April 2, 2021\n",
            "May 15, 2021\n",
            "December 10, 2020\n",
            "the end of that month\n",
            "the day before June 2, 2021\n",
            "July 10, 2021\n",
            "8/1/2021\n",
            "August 15, 2021\n",
            "September 5, 2021\n",
            "December 20, 2020\n",
            "October 10, 2021\n",
            "three weeks\n",
            "October 31, 2021\n",
            "November 15, 2021\n",
            "January 10, 2022\n",
            "two weeks\n",
            "three days later\n",
            "March 15, 2022\n",
            "Three days later\n",
            "June 10, 2024\n"
          ]
        }
      ]
    },
    {
      "cell_type": "code",
      "source": [
        "def dep_subtree(token, dep):\n",
        "  deps =[child.dep_ for child in token.children]\n",
        "  child=next(filter(lambda c: c.dep_==dep, token.children), None)\n",
        "  if child != None:\n",
        "    return \" \".join([c.text for c in child.subtree])\n",
        "  else:\n",
        "    return \"\""
      ],
      "metadata": {
        "id": "CyH5B8JrJDfC"
      },
      "execution_count": null,
      "outputs": []
    },
    {
      "cell_type": "code",
      "source": [
        "p = re.compile(r'\\[\\d+\\]')"
      ],
      "metadata": {
        "id": "SftChNFqKny9"
      },
      "execution_count": null,
      "outputs": []
    },
    {
      "cell_type": "code",
      "source": [
        "def extract_events_regex(line):\n",
        "  matches = []\n",
        "  # capture thee digit and four digit years (1975) and ranges (1975-1976)\n",
        "  found = re.findall('In (\\d\\d\\d\\d?[/\\–]?\\d?\\d?\\d?\\d?),? ?([^\\\\.]*)', line)\n",
        "  try:\n",
        "    matches = matches + list(map(lambda f: (f[0] if len(f[0])>3 else \"0\"+f[0] ,f[0],f[1]),found))\n",
        "  except:\n",
        "   return []\n",
        "  return matches"
      ],
      "metadata": {
        "id": "2cHubzHdMigP"
      },
      "execution_count": null,
      "outputs": []
    },
    {
      "cell_type": "code",
      "source": [
        "def extract_events_spacy(line):\n",
        "  line=p.sub('', line)\n",
        "  events = []\n",
        "  doc = nlp(line)\n",
        "  for ent in filter(lambda e: e.label_=='DATE',doc.ents):\n",
        "    try:\n",
        "      start,end = parse(ent.text)\n",
        "    except:\n",
        "      # could not parse the dates, hence ignore it\n",
        "      continue\n",
        "    current = ent.root\n",
        "    while current.dep_ != \"ROOT\":\n",
        "      current = current.head\n",
        "    desc = \" \".join(filter(None,[\n",
        "                                 dep_subtree(current,\"nsubj\"),\n",
        "                                 dep_subtree(current,\"nsubjpass\"),\n",
        "                                 dep_subtree(current,\"auxpass\"),\n",
        "                                 dep_subtree(current,\"amod\"),\n",
        "                                 dep_subtree(current,\"det\"),\n",
        "                                 current.text,\n",
        "                                 dep_subtree(current,\"acl\"),\n",
        "                                 dep_subtree(current,\"dobj\"),\n",
        "                                 dep_subtree(current,\"attr\"),\n",
        "                                 dep_subtree(current,\"advmod\")]))\n",
        "    events = events + [(start,ent.text,desc)]\n",
        "  return events"
      ],
      "metadata": {
        "id": "NCZXMhBGKCyO"
      },
      "execution_count": null,
      "outputs": []
    },
    {
      "cell_type": "code",
      "source": [
        "with open('/content/Chronology_Facts_1.txt', 'r') as f: # Open the file in read mode\n",
        "  text = f.read()  # Read the entire file\n",
        "  extract_events_spacy(text)"
      ],
      "metadata": {
        "id": "XpXKIq_MKIvd"
      },
      "execution_count": null,
      "outputs": []
    },
    {
      "cell_type": "code",
      "source": [
        "extract_events_spacy(\"Facts of the Case On January 15, 2021, the plaintiff, James Rosco, purchased a batch of motor oil branded as 'UltraGuard' from a local retailer, AutoMart, located in Albany, New York. The motor oil was manufactured by the defendant, LubriTech Industries, Inc. ('LubriTech'). The plaintiff used the motor oil in his 2020 Ford Mustang on January 20, 2021, during a routine oil change performed at Speedy Lube, an auto service center in Albany. On February 5, 2021, the plaintiff began to notice unusual noises emanating from the engine of his vehicle. Concerned, he took the car back to Speedy Lube on February 7, 2021, where the mechanics conducted a preliminary inspection but found no immediate issues. However, the noises persisted, and on February 15, 2021, the plaintiff's vehicle broke down on the New York State Thruway. Three days later the plaintiff changed the license plates on the car. The vehicle was towed to Albany Auto Repair on February 16, 2021. After a thorough inspection, the mechanics discovered significant engine damage, which they attributed to the motor oil used during the last oil change. The plaintiff was informed of this diagnosis on February 18, 2021. The mechanics noted that the motor oil appeared to have degraded prematurely, causing insufficient lubrication and leading to engine failure. On March 1, 2021, the plaintiff contacted LubriTech to report the issue and seek compensation for the damages. LubriTech responded on March 10, 2021, denying any fault and asserting that their product met all industry standards. The plaintiff then commissioned an independent laboratory, ChemTest Labs, to analyze the motor oil. The lab results, received on March 25, 2021, indicated that the motor oil contained an excessive amount of a chemical compound known as 'Polymer X,' which is known to cause rapid degradation under high temperatures. On April 2, 2021, the plaintiff filed a complaint with the New York State Department of Consumer Protection, which initiated an investigation into LubriTech's manufacturing processes. The investigation report, released on May 15, 2021, corroborated the findings of ChemTest Labs, revealing that a batch of motor oil produced on December 10, 2020, contained a higher-than-acceptable level of Polymer X due to a manufacturing error. The report was produced at the end of that month. On the day before June 2, 2021, the plaintiff filed a lawsuit against LubriTech in the Supreme Court of New York, Albany County, seeking damages for the cost of engine repairs, loss of use of the vehicle, and other related expenses. The case was assigned to Judge Emily Thompson, who scheduled the initial hearing for July 10, 2021. During the discovery phase, which commenced on 8/1/2021, it was revealed that LubriTech had received multiple complaints about the same batch of motor oil. Internal emails from LubriTech, dated August 15, 2021, showed that the company was aware of the issue but chose not to issue a recall or notify consumers. On September 5, 2021, the plaintiffs legal team deposed LubriTechs head of quality control, who admitted under oath that the company had identified the contamination on December 20, 2020, but decided against taking corrective action due to cost concerns. This testimony was pivotal in establishing LubriTech's knowledge and negligence. The trial commenced on October 10, 2021, and lasted for three weeks. On October 31, 2021, the jury returned a verdict in favor of the plaintiff, awarding him 100,000 in punitive damages. LubriTech filed an appeal on November 15, 2021, challenging both the verdict and the damages awarded. The Appellate Division, Third Department, heard the appeal on January 10, 2022, and issued a decision two weeks and three days later, affirming the lower court's ruling. LubriTech then sought leave to appeal to the New York Court of Appeals, which was granted on March 15, 2022. Three days later, the Chief Justice remarked that the appellate lawyers was going to be disbarred for improper conduct.  The case is now before the New York Court of Appeals, with oral arguments scheduled for June 10, 2024. The plaintiff contends that LubriTech's actions constituted gross negligence and seeks to uphold the lower courts' decisions. The defendant argues that the damages awarded were excessive and that the plaintiff failed to prove causation adequately. This case presents significant questions regarding product liability and corporate responsibility, particularly in the context of consumer safety and the duty to inform. The outcome will have far-reaching implications for manufacturers and consumers alike.\")"
      ],
      "metadata": {
        "colab": {
          "base_uri": "https://localhost:8080/"
        },
        "id": "ddUDYN1pNdYK",
        "outputId": "fe07fc6b-5d10-49b9-83df-de6bdd552d6d",
        "collapsed": true
      },
      "execution_count": null,
      "outputs": [
        {
          "output_type": "execute_result",
          "data": {
            "text/plain": [
              "[(datetime.datetime(2021, 1, 15, 0, 0),\n",
              "  'January 15, 2021',\n",
              "  \"Facts of the Case purchased a batch of motor oil branded as ' UltraGuard '\"),\n",
              " (datetime.datetime(2021, 1, 20, 0, 0),\n",
              "  'January 20, 2021',\n",
              "  'The plaintiff used the motor oil'),\n",
              " (datetime.datetime(2021, 2, 5, 0, 0),\n",
              "  'February 5, 2021',\n",
              "  'the plaintiff began'),\n",
              " (datetime.datetime(2021, 2, 7, 0, 0),\n",
              "  'February 7, 2021',\n",
              "  'he took the car back to Speedy Lube'),\n",
              " (datetime.datetime(2021, 2, 15, 0, 0),\n",
              "  'February 15, 2021',\n",
              "  'the noises persisted However'),\n",
              " (datetime.datetime(2021, 2, 16, 0, 0),\n",
              "  'February 16, 2021',\n",
              "  'The vehicle was towed'),\n",
              " (datetime.datetime(2021, 2, 18, 0, 0),\n",
              "  'February 18, 2021',\n",
              "  'The plaintiff was informed'),\n",
              " (datetime.datetime(2021, 3, 1, 0, 0),\n",
              "  'March 1, 2021',\n",
              "  'the plaintiff contacted LubriTech'),\n",
              " (datetime.datetime(2021, 3, 10, 0, 0),\n",
              "  'March 10, 2021',\n",
              "  'LubriTech responded'),\n",
              " (datetime.datetime(2021, 3, 25, 0, 0),\n",
              "  'March 25, 2021',\n",
              "  'The lab results , received on March 25 , 2021 , indicated'),\n",
              " (datetime.datetime(2021, 4, 2, 0, 0),\n",
              "  'April 2, 2021',\n",
              "  \"the plaintiff filed a complaint with the New York State Department of Consumer Protection , which initiated an investigation into LubriTech 's manufacturing processes\"),\n",
              " (datetime.datetime(2021, 5, 15, 0, 0),\n",
              "  'May 15, 2021',\n",
              "  'The investigation report , released on May 15 , 2021 , corroborated the findings of ChemTest Labs'),\n",
              " (datetime.datetime(2020, 12, 10, 0, 0),\n",
              "  'December 10, 2020',\n",
              "  'The investigation report , released on May 15 , 2021 , corroborated the findings of ChemTest Labs'),\n",
              " (datetime.datetime(2021, 7, 10, 0, 0),\n",
              "  'July 10, 2021',\n",
              "  'The case was assigned'),\n",
              " (datetime.datetime(2021, 8, 15, 0, 0),\n",
              "  'August 15, 2021',\n",
              "  'Internal emails from LubriTech , dated August 15 , 2021 , showed'),\n",
              " (datetime.datetime(2021, 9, 5, 0, 0),\n",
              "  'September 5, 2021',\n",
              "  'the plaintiffs legal team deposed LubriTechs head of quality control , who admitted under oath that the company had identified the contamination on December 20 , 2020'),\n",
              " (datetime.datetime(2020, 12, 20, 0, 0),\n",
              "  'December 20, 2020',\n",
              "  'the plaintiffs legal team deposed LubriTechs head of quality control , who admitted under oath that the company had identified the contamination on December 20 , 2020'),\n",
              " (datetime.datetime(2021, 10, 10, 0, 0),\n",
              "  'October 10, 2021',\n",
              "  'The trial commenced on October 10 , 2021 , and lasted'),\n",
              " (datetime.datetime(2021, 10, 31, 0, 0),\n",
              "  'October 31, 2021',\n",
              "  'the jury returned a verdict in favor of the plaintiff'),\n",
              " (datetime.datetime(2021, 11, 15, 0, 0),\n",
              "  'November 15, 2021',\n",
              "  'LubriTech filed an appeal'),\n",
              " (datetime.datetime(2022, 1, 10, 0, 0),\n",
              "  'January 10, 2022',\n",
              "  'The Appellate Division , Third Department , heard the appeal'),\n",
              " (datetime.datetime(2022, 3, 15, 0, 0),\n",
              "  'March 15, 2022',\n",
              "  'LubriTech sought leave then'),\n",
              " (datetime.datetime(2024, 6, 10, 0, 0), 'June 10, 2024', 'The case is now')]"
            ]
          },
          "metadata": {},
          "execution_count": 43
        }
      ]
    },
    {
      "cell_type": "markdown",
      "source": [
        "##More Exploration With Spacy\n",
        "\n",
        "Code is from Chatgpt. My goal was to see what piece of code works and once it works, I will explore why/how it works. This is how I learn new concepts in general. In the end, I will summarize what this code does. I tried it on 2 chronologies and seems to work ok so far.\n"
      ],
      "metadata": {
        "id": "lwgRterhuaOa"
      }
    },
    {
      "cell_type": "code",
      "source": [
        "!pip install spacy python-docx #install library to create and manipulate Microsoft Word (.docx) files\n",
        "!python -m spacy download en_core_web_sm #install spacy for NLP\n",
        "\n",
        "#mount google drive\n",
        "from google.colab import drive\n",
        "drive.mount('/content/drive', force_remount=True)\n",
        "\n",
        "!pip install python-docx\n",
        "from docx import Document\n",
        "import spacy\n",
        "import docx\n",
        "import re #working with regular expressions, allowing you to search, match, and manipulate strings based on patterns.\n",
        "from datetime import datetime, timedelta\n",
        "\n",
        "# Load the SpaCy model\n",
        "nlp = spacy.load('en_core_web_sm') #load pretrained model\n",
        "\n",
        "# Function to convert a time expression into a timedelta\n",
        "def parse_time_expression(expression):\n",
        "    weeks = 0\n",
        "    days = 0\n",
        "    match_weeks = re.search(r'(\\d+)\\s*weeks?', expression)\n",
        "    match_days = re.search(r'(\\d+)\\s*days?', expression)\n",
        "\n",
        "    if match_weeks:\n",
        "        weeks = int(match_weeks.group(1))\n",
        "    if match_days:\n",
        "        days = int(match_days.group(1))\n",
        "\n",
        "    return timedelta(weeks=weeks, days=days)\n",
        "\n",
        "\n",
        "# Function to extract dates and summarize events\n",
        "def extract_dates_and_events(docx_path):\n",
        "    # Read the .docx file\n",
        "    doc = docx.Document(docx_path)\n",
        "\n",
        "    # Concatenate all paragraphs into a single string\n",
        "    full_text = \"\\n\".join([para.text for para in doc.paragraphs if para.text.strip()])\n",
        "\n",
        "    # Process the text with SpaCy\n",
        "    doc_nlp = nlp(full_text)\n",
        "\n",
        "    events = []\n",
        "    date_pattern = r'\\b(?:\\d{1,2} \\w+ \\d{4}|\\w+ \\d{1,2}, \\d{4}|\\d{1,2}/\\d{1,2}/\\d{4})\\b'\n",
        "    time_expression_pattern = r'\\b(?:\\d+\\s*weeks?\\s*(?:and\\s*)?\\d*\\s*days?)\\b'\n",
        "\n",
        "    # Find dates and corresponding events\n",
        "    for sent in doc_nlp.sents:\n",
        "        date_matches = re.findall(date_pattern, sent.text)\n",
        "        time_expressions = re.findall(time_expression_pattern, sent.text)\n",
        "\n",
        "        # Check for time expressions and calculate new dates\n",
        "        for time_expr in time_expressions:\n",
        "            # Find the most recent date in the text to add the time expression to\n",
        "            if date_matches:\n",
        "                last_date = date_matches[-1]\n",
        "                if \"/\" in last_date:\n",
        "                    parsed_date = datetime.strptime(last_date, \"%m/%d/%Y\")\n",
        "                else:\n",
        "                    try:\n",
        "                        parsed_date = datetime.strptime(last_date, \"%B %d, %Y\")\n",
        "                    except ValueError:\n",
        "                        parsed_date = datetime.strptime(last_date, \"%d %B %Y\")\n",
        "\n",
        "                time_delta = parse_time_expression(time_expr)\n",
        "                new_date = parsed_date + time_delta\n",
        "                formatted_new_date = new_date.strftime(\"%B %d, %Y\")\n",
        "                event_description = sent.text.replace(time_expr, f\"New date: {formatted_new_date}\").strip().replace(\"\\n\", \" \")\n",
        "                events.append((new_date, formatted_new_date, event_description))\n",
        "\n",
        "        # Process normal date matches\n",
        "        for date in date_matches:\n",
        "            if \"/\" in date:  # MM/DD/YYYY format\n",
        "                parsed_date = datetime.strptime(date, \"%m/%d/%Y\")\n",
        "            else:  # Other formats\n",
        "                try:\n",
        "                    parsed_date = datetime.strptime(date, \"%B %d, %Y\")\n",
        "                except ValueError:\n",
        "                    parsed_date = datetime.strptime(date, \"%d %B %Y\")\n",
        "\n",
        "            formatted_date = parsed_date.strftime(\"%B %d, %Y\")\n",
        "            event_description = sent.text.replace(date, \"\").strip().replace(\"\\n\", \" \")\n",
        "            events.append((parsed_date, formatted_date, event_description))\n",
        "\n",
        "    # Sort events by date\n",
        "    events.sort(key=lambda x: x[0])\n",
        "\n",
        "    # Return formatted events\n",
        "    return [f\"{event[1]}: {event[2]}\" for event in events]\n",
        "\n",
        "# Path to the .docx file in your Google Drive\n",
        "docx_path = '/content/drive/My Drive/LegalDuel 1B/Chronology Examples/Motor Oil Chronology.docx'\n",
        "\n",
        "# Extract dates and events\n",
        "legal_events = extract_dates_and_events(docx_path)\n",
        "\n",
        "# Print the output\n",
        "print(\"Legal Chronology for James Rosco v. LubriTech Industries, Inc.\\n\")\n",
        "for event in legal_events:\n",
        "    print(event)\n"
      ],
      "metadata": {
        "colab": {
          "base_uri": "https://localhost:8080/"
        },
        "id": "UvRLxOfek4wz",
        "outputId": "1a50b8b6-cc8f-4c90-a022-d645a33b1103"
      },
      "execution_count": null,
      "outputs": [
        {
          "output_type": "stream",
          "name": "stdout",
          "text": [
            "Requirement already satisfied: spacy in /usr/local/lib/python3.10/dist-packages (3.7.6)\n",
            "Requirement already satisfied: python-docx in /usr/local/lib/python3.10/dist-packages (1.1.2)\n",
            "Requirement already satisfied: spacy-legacy<3.1.0,>=3.0.11 in /usr/local/lib/python3.10/dist-packages (from spacy) (3.0.12)\n",
            "Requirement already satisfied: spacy-loggers<2.0.0,>=1.0.0 in /usr/local/lib/python3.10/dist-packages (from spacy) (1.0.5)\n",
            "Requirement already satisfied: murmurhash<1.1.0,>=0.28.0 in /usr/local/lib/python3.10/dist-packages (from spacy) (1.0.10)\n",
            "Requirement already satisfied: cymem<2.1.0,>=2.0.2 in /usr/local/lib/python3.10/dist-packages (from spacy) (2.0.8)\n",
            "Requirement already satisfied: preshed<3.1.0,>=3.0.2 in /usr/local/lib/python3.10/dist-packages (from spacy) (3.0.9)\n",
            "Requirement already satisfied: thinc<8.3.0,>=8.2.2 in /usr/local/lib/python3.10/dist-packages (from spacy) (8.2.5)\n",
            "Requirement already satisfied: wasabi<1.2.0,>=0.9.1 in /usr/local/lib/python3.10/dist-packages (from spacy) (1.1.3)\n",
            "Requirement already satisfied: srsly<3.0.0,>=2.4.3 in /usr/local/lib/python3.10/dist-packages (from spacy) (2.4.8)\n",
            "Requirement already satisfied: catalogue<2.1.0,>=2.0.6 in /usr/local/lib/python3.10/dist-packages (from spacy) (2.0.10)\n",
            "Requirement already satisfied: weasel<0.5.0,>=0.1.0 in /usr/local/lib/python3.10/dist-packages (from spacy) (0.4.1)\n",
            "Requirement already satisfied: typer<1.0.0,>=0.3.0 in /usr/local/lib/python3.10/dist-packages (from spacy) (0.12.5)\n",
            "Requirement already satisfied: tqdm<5.0.0,>=4.38.0 in /usr/local/lib/python3.10/dist-packages (from spacy) (4.66.5)\n",
            "Requirement already satisfied: requests<3.0.0,>=2.13.0 in /usr/local/lib/python3.10/dist-packages (from spacy) (2.32.3)\n",
            "Requirement already satisfied: pydantic!=1.8,!=1.8.1,<3.0.0,>=1.7.4 in /usr/local/lib/python3.10/dist-packages (from spacy) (2.9.2)\n",
            "Requirement already satisfied: jinja2 in /usr/local/lib/python3.10/dist-packages (from spacy) (3.1.4)\n",
            "Requirement already satisfied: setuptools in /usr/local/lib/python3.10/dist-packages (from spacy) (71.0.4)\n",
            "Requirement already satisfied: packaging>=20.0 in /usr/local/lib/python3.10/dist-packages (from spacy) (24.1)\n",
            "Requirement already satisfied: langcodes<4.0.0,>=3.2.0 in /usr/local/lib/python3.10/dist-packages (from spacy) (3.4.0)\n",
            "Requirement already satisfied: numpy>=1.19.0 in /usr/local/lib/python3.10/dist-packages (from spacy) (1.26.4)\n",
            "Requirement already satisfied: lxml>=3.1.0 in /usr/local/lib/python3.10/dist-packages (from python-docx) (4.9.4)\n",
            "Requirement already satisfied: typing-extensions>=4.9.0 in /usr/local/lib/python3.10/dist-packages (from python-docx) (4.12.2)\n",
            "Requirement already satisfied: language-data>=1.2 in /usr/local/lib/python3.10/dist-packages (from langcodes<4.0.0,>=3.2.0->spacy) (1.2.0)\n",
            "Requirement already satisfied: annotated-types>=0.6.0 in /usr/local/lib/python3.10/dist-packages (from pydantic!=1.8,!=1.8.1,<3.0.0,>=1.7.4->spacy) (0.7.0)\n",
            "Requirement already satisfied: pydantic-core==2.23.4 in /usr/local/lib/python3.10/dist-packages (from pydantic!=1.8,!=1.8.1,<3.0.0,>=1.7.4->spacy) (2.23.4)\n",
            "Requirement already satisfied: charset-normalizer<4,>=2 in /usr/local/lib/python3.10/dist-packages (from requests<3.0.0,>=2.13.0->spacy) (3.3.2)\n",
            "Requirement already satisfied: idna<4,>=2.5 in /usr/local/lib/python3.10/dist-packages (from requests<3.0.0,>=2.13.0->spacy) (3.10)\n",
            "Requirement already satisfied: urllib3<3,>=1.21.1 in /usr/local/lib/python3.10/dist-packages (from requests<3.0.0,>=2.13.0->spacy) (2.2.3)\n",
            "Requirement already satisfied: certifi>=2017.4.17 in /usr/local/lib/python3.10/dist-packages (from requests<3.0.0,>=2.13.0->spacy) (2024.8.30)\n",
            "Requirement already satisfied: blis<0.8.0,>=0.7.8 in /usr/local/lib/python3.10/dist-packages (from thinc<8.3.0,>=8.2.2->spacy) (0.7.11)\n",
            "Requirement already satisfied: confection<1.0.0,>=0.0.1 in /usr/local/lib/python3.10/dist-packages (from thinc<8.3.0,>=8.2.2->spacy) (0.1.5)\n",
            "Requirement already satisfied: click>=8.0.0 in /usr/local/lib/python3.10/dist-packages (from typer<1.0.0,>=0.3.0->spacy) (8.1.7)\n",
            "Requirement already satisfied: shellingham>=1.3.0 in /usr/local/lib/python3.10/dist-packages (from typer<1.0.0,>=0.3.0->spacy) (1.5.4)\n",
            "Requirement already satisfied: rich>=10.11.0 in /usr/local/lib/python3.10/dist-packages (from typer<1.0.0,>=0.3.0->spacy) (13.8.1)\n",
            "Requirement already satisfied: cloudpathlib<1.0.0,>=0.7.0 in /usr/local/lib/python3.10/dist-packages (from weasel<0.5.0,>=0.1.0->spacy) (0.19.0)\n",
            "Requirement already satisfied: smart-open<8.0.0,>=5.2.1 in /usr/local/lib/python3.10/dist-packages (from weasel<0.5.0,>=0.1.0->spacy) (7.0.4)\n",
            "Requirement already satisfied: MarkupSafe>=2.0 in /usr/local/lib/python3.10/dist-packages (from jinja2->spacy) (2.1.5)\n",
            "Requirement already satisfied: marisa-trie>=0.7.7 in /usr/local/lib/python3.10/dist-packages (from language-data>=1.2->langcodes<4.0.0,>=3.2.0->spacy) (1.2.0)\n",
            "Requirement already satisfied: markdown-it-py>=2.2.0 in /usr/local/lib/python3.10/dist-packages (from rich>=10.11.0->typer<1.0.0,>=0.3.0->spacy) (3.0.0)\n",
            "Requirement already satisfied: pygments<3.0.0,>=2.13.0 in /usr/local/lib/python3.10/dist-packages (from rich>=10.11.0->typer<1.0.0,>=0.3.0->spacy) (2.18.0)\n",
            "Requirement already satisfied: wrapt in /usr/local/lib/python3.10/dist-packages (from smart-open<8.0.0,>=5.2.1->weasel<0.5.0,>=0.1.0->spacy) (1.16.0)\n",
            "Requirement already satisfied: mdurl~=0.1 in /usr/local/lib/python3.10/dist-packages (from markdown-it-py>=2.2.0->rich>=10.11.0->typer<1.0.0,>=0.3.0->spacy) (0.1.2)\n",
            "Collecting en-core-web-sm==3.7.1\n",
            "  Downloading https://github.com/explosion/spacy-models/releases/download/en_core_web_sm-3.7.1/en_core_web_sm-3.7.1-py3-none-any.whl (12.8 MB)\n",
            "\u001b[2K     \u001b[90m━━━━━━━━━━━━━━━━━━━━━━━━━━━━━━━━━━━━━━━━\u001b[0m \u001b[32m12.8/12.8 MB\u001b[0m \u001b[31m61.6 MB/s\u001b[0m eta \u001b[36m0:00:00\u001b[0m\n",
            "\u001b[?25hRequirement already satisfied: spacy<3.8.0,>=3.7.2 in /usr/local/lib/python3.10/dist-packages (from en-core-web-sm==3.7.1) (3.7.6)\n",
            "Requirement already satisfied: spacy-legacy<3.1.0,>=3.0.11 in /usr/local/lib/python3.10/dist-packages (from spacy<3.8.0,>=3.7.2->en-core-web-sm==3.7.1) (3.0.12)\n",
            "Requirement already satisfied: spacy-loggers<2.0.0,>=1.0.0 in /usr/local/lib/python3.10/dist-packages (from spacy<3.8.0,>=3.7.2->en-core-web-sm==3.7.1) (1.0.5)\n",
            "Requirement already satisfied: murmurhash<1.1.0,>=0.28.0 in /usr/local/lib/python3.10/dist-packages (from spacy<3.8.0,>=3.7.2->en-core-web-sm==3.7.1) (1.0.10)\n",
            "Requirement already satisfied: cymem<2.1.0,>=2.0.2 in /usr/local/lib/python3.10/dist-packages (from spacy<3.8.0,>=3.7.2->en-core-web-sm==3.7.1) (2.0.8)\n",
            "Requirement already satisfied: preshed<3.1.0,>=3.0.2 in /usr/local/lib/python3.10/dist-packages (from spacy<3.8.0,>=3.7.2->en-core-web-sm==3.7.1) (3.0.9)\n",
            "Requirement already satisfied: thinc<8.3.0,>=8.2.2 in /usr/local/lib/python3.10/dist-packages (from spacy<3.8.0,>=3.7.2->en-core-web-sm==3.7.1) (8.2.5)\n",
            "Requirement already satisfied: wasabi<1.2.0,>=0.9.1 in /usr/local/lib/python3.10/dist-packages (from spacy<3.8.0,>=3.7.2->en-core-web-sm==3.7.1) (1.1.3)\n",
            "Requirement already satisfied: srsly<3.0.0,>=2.4.3 in /usr/local/lib/python3.10/dist-packages (from spacy<3.8.0,>=3.7.2->en-core-web-sm==3.7.1) (2.4.8)\n",
            "Requirement already satisfied: catalogue<2.1.0,>=2.0.6 in /usr/local/lib/python3.10/dist-packages (from spacy<3.8.0,>=3.7.2->en-core-web-sm==3.7.1) (2.0.10)\n",
            "Requirement already satisfied: weasel<0.5.0,>=0.1.0 in /usr/local/lib/python3.10/dist-packages (from spacy<3.8.0,>=3.7.2->en-core-web-sm==3.7.1) (0.4.1)\n",
            "Requirement already satisfied: typer<1.0.0,>=0.3.0 in /usr/local/lib/python3.10/dist-packages (from spacy<3.8.0,>=3.7.2->en-core-web-sm==3.7.1) (0.12.5)\n",
            "Requirement already satisfied: tqdm<5.0.0,>=4.38.0 in /usr/local/lib/python3.10/dist-packages (from spacy<3.8.0,>=3.7.2->en-core-web-sm==3.7.1) (4.66.5)\n",
            "Requirement already satisfied: requests<3.0.0,>=2.13.0 in /usr/local/lib/python3.10/dist-packages (from spacy<3.8.0,>=3.7.2->en-core-web-sm==3.7.1) (2.32.3)\n",
            "Requirement already satisfied: pydantic!=1.8,!=1.8.1,<3.0.0,>=1.7.4 in /usr/local/lib/python3.10/dist-packages (from spacy<3.8.0,>=3.7.2->en-core-web-sm==3.7.1) (2.9.2)\n",
            "Requirement already satisfied: jinja2 in /usr/local/lib/python3.10/dist-packages (from spacy<3.8.0,>=3.7.2->en-core-web-sm==3.7.1) (3.1.4)\n",
            "Requirement already satisfied: setuptools in /usr/local/lib/python3.10/dist-packages (from spacy<3.8.0,>=3.7.2->en-core-web-sm==3.7.1) (71.0.4)\n",
            "Requirement already satisfied: packaging>=20.0 in /usr/local/lib/python3.10/dist-packages (from spacy<3.8.0,>=3.7.2->en-core-web-sm==3.7.1) (24.1)\n",
            "Requirement already satisfied: langcodes<4.0.0,>=3.2.0 in /usr/local/lib/python3.10/dist-packages (from spacy<3.8.0,>=3.7.2->en-core-web-sm==3.7.1) (3.4.0)\n",
            "Requirement already satisfied: numpy>=1.19.0 in /usr/local/lib/python3.10/dist-packages (from spacy<3.8.0,>=3.7.2->en-core-web-sm==3.7.1) (1.26.4)\n",
            "Requirement already satisfied: language-data>=1.2 in /usr/local/lib/python3.10/dist-packages (from langcodes<4.0.0,>=3.2.0->spacy<3.8.0,>=3.7.2->en-core-web-sm==3.7.1) (1.2.0)\n",
            "Requirement already satisfied: annotated-types>=0.6.0 in /usr/local/lib/python3.10/dist-packages (from pydantic!=1.8,!=1.8.1,<3.0.0,>=1.7.4->spacy<3.8.0,>=3.7.2->en-core-web-sm==3.7.1) (0.7.0)\n",
            "Requirement already satisfied: pydantic-core==2.23.4 in /usr/local/lib/python3.10/dist-packages (from pydantic!=1.8,!=1.8.1,<3.0.0,>=1.7.4->spacy<3.8.0,>=3.7.2->en-core-web-sm==3.7.1) (2.23.4)\n",
            "Requirement already satisfied: typing-extensions>=4.6.1 in /usr/local/lib/python3.10/dist-packages (from pydantic!=1.8,!=1.8.1,<3.0.0,>=1.7.4->spacy<3.8.0,>=3.7.2->en-core-web-sm==3.7.1) (4.12.2)\n",
            "Requirement already satisfied: charset-normalizer<4,>=2 in /usr/local/lib/python3.10/dist-packages (from requests<3.0.0,>=2.13.0->spacy<3.8.0,>=3.7.2->en-core-web-sm==3.7.1) (3.3.2)\n",
            "Requirement already satisfied: idna<4,>=2.5 in /usr/local/lib/python3.10/dist-packages (from requests<3.0.0,>=2.13.0->spacy<3.8.0,>=3.7.2->en-core-web-sm==3.7.1) (3.10)\n",
            "Requirement already satisfied: urllib3<3,>=1.21.1 in /usr/local/lib/python3.10/dist-packages (from requests<3.0.0,>=2.13.0->spacy<3.8.0,>=3.7.2->en-core-web-sm==3.7.1) (2.2.3)\n",
            "Requirement already satisfied: certifi>=2017.4.17 in /usr/local/lib/python3.10/dist-packages (from requests<3.0.0,>=2.13.0->spacy<3.8.0,>=3.7.2->en-core-web-sm==3.7.1) (2024.8.30)\n",
            "Requirement already satisfied: blis<0.8.0,>=0.7.8 in /usr/local/lib/python3.10/dist-packages (from thinc<8.3.0,>=8.2.2->spacy<3.8.0,>=3.7.2->en-core-web-sm==3.7.1) (0.7.11)\n",
            "Requirement already satisfied: confection<1.0.0,>=0.0.1 in /usr/local/lib/python3.10/dist-packages (from thinc<8.3.0,>=8.2.2->spacy<3.8.0,>=3.7.2->en-core-web-sm==3.7.1) (0.1.5)\n",
            "Requirement already satisfied: click>=8.0.0 in /usr/local/lib/python3.10/dist-packages (from typer<1.0.0,>=0.3.0->spacy<3.8.0,>=3.7.2->en-core-web-sm==3.7.1) (8.1.7)\n",
            "Requirement already satisfied: shellingham>=1.3.0 in /usr/local/lib/python3.10/dist-packages (from typer<1.0.0,>=0.3.0->spacy<3.8.0,>=3.7.2->en-core-web-sm==3.7.1) (1.5.4)\n",
            "Requirement already satisfied: rich>=10.11.0 in /usr/local/lib/python3.10/dist-packages (from typer<1.0.0,>=0.3.0->spacy<3.8.0,>=3.7.2->en-core-web-sm==3.7.1) (13.8.1)\n",
            "Requirement already satisfied: cloudpathlib<1.0.0,>=0.7.0 in /usr/local/lib/python3.10/dist-packages (from weasel<0.5.0,>=0.1.0->spacy<3.8.0,>=3.7.2->en-core-web-sm==3.7.1) (0.19.0)\n",
            "Requirement already satisfied: smart-open<8.0.0,>=5.2.1 in /usr/local/lib/python3.10/dist-packages (from weasel<0.5.0,>=0.1.0->spacy<3.8.0,>=3.7.2->en-core-web-sm==3.7.1) (7.0.4)\n",
            "Requirement already satisfied: MarkupSafe>=2.0 in /usr/local/lib/python3.10/dist-packages (from jinja2->spacy<3.8.0,>=3.7.2->en-core-web-sm==3.7.1) (2.1.5)\n",
            "Requirement already satisfied: marisa-trie>=0.7.7 in /usr/local/lib/python3.10/dist-packages (from language-data>=1.2->langcodes<4.0.0,>=3.2.0->spacy<3.8.0,>=3.7.2->en-core-web-sm==3.7.1) (1.2.0)\n",
            "Requirement already satisfied: markdown-it-py>=2.2.0 in /usr/local/lib/python3.10/dist-packages (from rich>=10.11.0->typer<1.0.0,>=0.3.0->spacy<3.8.0,>=3.7.2->en-core-web-sm==3.7.1) (3.0.0)\n",
            "Requirement already satisfied: pygments<3.0.0,>=2.13.0 in /usr/local/lib/python3.10/dist-packages (from rich>=10.11.0->typer<1.0.0,>=0.3.0->spacy<3.8.0,>=3.7.2->en-core-web-sm==3.7.1) (2.18.0)\n",
            "Requirement already satisfied: wrapt in /usr/local/lib/python3.10/dist-packages (from smart-open<8.0.0,>=5.2.1->weasel<0.5.0,>=0.1.0->spacy<3.8.0,>=3.7.2->en-core-web-sm==3.7.1) (1.16.0)\n",
            "Requirement already satisfied: mdurl~=0.1 in /usr/local/lib/python3.10/dist-packages (from markdown-it-py>=2.2.0->rich>=10.11.0->typer<1.0.0,>=0.3.0->spacy<3.8.0,>=3.7.2->en-core-web-sm==3.7.1) (0.1.2)\n",
            "\u001b[38;5;2m✔ Download and installation successful\u001b[0m\n",
            "You can now load the package via spacy.load('en_core_web_sm')\n",
            "\u001b[38;5;3m⚠ Restart to reload dependencies\u001b[0m\n",
            "If you are in a Jupyter or Colab notebook, you may need to restart Python in\n",
            "order to load all the package's dependencies. You can do this by selecting the\n",
            "'Restart kernel' or 'Restart runtime' option.\n",
            "Mounted at /content/drive\n",
            "Requirement already satisfied: python-docx in /usr/local/lib/python3.10/dist-packages (1.1.2)\n",
            "Requirement already satisfied: lxml>=3.1.0 in /usr/local/lib/python3.10/dist-packages (from python-docx) (4.9.4)\n",
            "Requirement already satisfied: typing-extensions>=4.9.0 in /usr/local/lib/python3.10/dist-packages (from python-docx) (4.12.2)\n",
            "Legal Chronology for James Rosco v. LubriTech Industries, Inc.\n",
            "\n",
            "December 10, 2020: The investigation report, released on May 15, 2021, corroborated the findings of ChemTest Labs, revealing that a batch of motor oil produced on , contained a higher-than-acceptable level of Polymer X due to a manufacturing error.\n",
            "December 20, 2020: On September 5, 2021, the plaintiff's legal team deposed LubriTech's head of quality control, who admitted under oath that the company had identified the contamination on , but decided against taking corrective action due to cost concerns.\n",
            "January 15, 2021: Facts of the Case On , the plaintiff, James Rosco, purchased a batch of motor oil branded as \"UltraGuard\" from a local retailer, AutoMart, located in Albany, New York.\n",
            "January 20, 2021: The plaintiff used the motor oil in his 2020 Ford Mustang on , during a routine oil change performed at Speedy Lube, an auto service center in Albany.\n",
            "February 05, 2021: On , the plaintiff began to notice unusual noises emanating from the engine of his vehicle.\n",
            "February 07, 2021: Concerned, he took the car back to Speedy Lube on , where the mechanics conducted a preliminary inspection but found no immediate issues.\n",
            "February 15, 2021: However, the noises persisted, and on , the plaintiff's vehicle broke down on the New York State Thruway.\n",
            "February 16, 2021: The vehicle was towed to Albany Auto Repair on .\n",
            "February 18, 2021: The plaintiff was informed of this diagnosis on .\n",
            "March 01, 2021: On , the plaintiff contacted LubriTech to report the issue and seek compensation for the damages.\n",
            "March 10, 2021: LubriTech responded on , denying any fault and asserting that their product met all industry standards.\n",
            "March 25, 2021: The lab results, received on , indicated that the motor oil contained an excessive amount of a chemical compound known as \"Polymer X,\" which is known to cause rapid degradation under high temperatures.\n",
            "April 02, 2021: On , the plaintiff filed a complaint with the New York State Department of Consumer Protection, which initiated an investigation into LubriTech's manufacturing processes.\n",
            "May 15, 2021: The investigation report, released on , corroborated the findings of ChemTest Labs, revealing that a batch of motor oil produced on December 10, 2020, contained a higher-than-acceptable level of Polymer X due to a manufacturing error.\n",
            "June 02, 2021: On the day before , the plaintiff filed a lawsuit against LubriTech in the Supreme Court of New York, Albany County, seeking damages for the cost of engine repairs, loss of use of the vehicle, and other related expenses.\n",
            "July 10, 2021: The case was assigned to Judge Emily Thompson, who scheduled the initial hearing for .\n",
            "August 01, 2021: During the discovery phase, which commenced on , it was revealed that LubriTech had received multiple complaints about the same batch of motor oil.\n",
            "August 15, 2021: Internal emails from LubriTech, dated , showed that the company was aware of the issue but chose not to issue a recall or notify consumers.\n",
            "September 05, 2021: On , the plaintiff's legal team deposed LubriTech's head of quality control, who admitted under oath that the company had identified the contamination on December 20, 2020, but decided against taking corrective action due to cost concerns.\n",
            "October 10, 2021: The trial commenced on , and lasted for three weeks.\n",
            "October 31, 2021: On , the jury returned a verdict in favor of the plaintiff, awarding him 100,000 in punitive damages.\n",
            "November 15, 2021: LubriTech filed an appeal on , challenging both the verdict and the damages awarded.\n",
            "January 10, 2022: The Appellate Division, Third Department, heard the appeal on , and issued a decision two weeks and three days later, affirming the lower court's ruling.\n",
            "March 15, 2022: LubriTech then sought leave to appeal to the New York Court of Appeals, which was granted on .\n",
            "June 10, 2024: The case is now before the New York Court of Appeals, with oral arguments scheduled for .\n"
          ]
        }
      ]
    },
    {
      "cell_type": "markdown",
      "source": [
        "# Duckling"
      ],
      "metadata": {
        "id": "_gCfm1UioyGq"
      }
    },
    {
      "cell_type": "markdown",
      "source": [
        "*Tiffany"
      ],
      "metadata": {
        "id": "vc8X9YpPRlJd"
      }
    },
    {
      "cell_type": "markdown",
      "source": [
        "https://github.com/facebook/duckling"
      ],
      "metadata": {
        "id": "iG8ZPqjtQwR9"
      }
    },
    {
      "cell_type": "code",
      "source": [],
      "metadata": {
        "id": "V8MwmC5bo0_h"
      },
      "execution_count": null,
      "outputs": []
    },
    {
      "cell_type": "markdown",
      "source": [],
      "metadata": {
        "id": "z8WbgWAOo1pL"
      }
    },
    {
      "cell_type": "markdown",
      "source": [
        "# Spark"
      ],
      "metadata": {
        "id": "ugF81LmVo4ot"
      }
    },
    {
      "cell_type": "markdown",
      "source": [
        "https://www.johnsnowlabs.com/extracting-exact-dates-from-natural-language-text/#:~:text=DateMatcher%20and%20MultiDateMatcher%20are%20rule,their%20performances%20are%20the%20same."
      ],
      "metadata": {
        "id": "xDutTJuTQ5Ep"
      }
    },
    {
      "cell_type": "code",
      "source": [],
      "metadata": {
        "id": "bmdcsyEBo6re"
      },
      "execution_count": null,
      "outputs": []
    },
    {
      "cell_type": "markdown",
      "source": [
        "# Stanford CoreNLP"
      ],
      "metadata": {
        "id": "tXAsLZlCo7s_"
      }
    },
    {
      "cell_type": "markdown",
      "source": [
        "*Zoe"
      ],
      "metadata": {
        "id": "OMC-389dRij0"
      }
    },
    {
      "cell_type": "markdown",
      "source": [
        "https://datascience.stackexchange.com/questions/45854/date-extraction-in-python\n",
        "\n",
        "https://stanfordnlp.github.io/stanza/ner.html"
      ],
      "metadata": {
        "id": "aCA45uHRRBfC"
      }
    },
    {
      "cell_type": "code",
      "source": [
        "# Stanford CoreNLP -> Stanza\n",
        "# install\n",
        "_pip_magic('stanza')\n",
        "_pip_magic('dateparser')"
      ],
      "metadata": {
        "id": "MfMCe-Hao-DB",
        "colab": {
          "base_uri": "https://localhost:8080/"
        },
        "collapsed": true,
        "outputId": "2586ba7f-9229-491b-cb5a-26594f47f06f"
      },
      "execution_count": null,
      "outputs": [
        {
          "output_type": "stream",
          "name": "stdout",
          "text": [
            "Requirement already satisfied: stanza in /usr/local/lib/python3.10/dist-packages (1.9.2)\n",
            "Requirement already satisfied: emoji in /usr/local/lib/python3.10/dist-packages (from stanza) (2.13.2)\n",
            "Requirement already satisfied: numpy in /usr/local/lib/python3.10/dist-packages (from stanza) (1.26.4)\n",
            "Requirement already satisfied: protobuf>=3.15.0 in /usr/local/lib/python3.10/dist-packages (from stanza) (3.20.3)\n",
            "Requirement already satisfied: requests in /usr/local/lib/python3.10/dist-packages (from stanza) (2.32.3)\n",
            "Requirement already satisfied: networkx in /usr/local/lib/python3.10/dist-packages (from stanza) (3.3)\n",
            "Requirement already satisfied: torch>=1.3.0 in /usr/local/lib/python3.10/dist-packages (from stanza) (2.4.1+cu121)\n",
            "Requirement already satisfied: tqdm in /usr/local/lib/python3.10/dist-packages (from stanza) (4.66.5)\n",
            "Requirement already satisfied: tomli in /usr/local/lib/python3.10/dist-packages (from stanza) (2.0.1)\n",
            "Requirement already satisfied: filelock in /usr/local/lib/python3.10/dist-packages (from torch>=1.3.0->stanza) (3.16.1)\n",
            "Requirement already satisfied: typing-extensions>=4.8.0 in /usr/local/lib/python3.10/dist-packages (from torch>=1.3.0->stanza) (4.12.2)\n",
            "Requirement already satisfied: sympy in /usr/local/lib/python3.10/dist-packages (from torch>=1.3.0->stanza) (1.13.3)\n",
            "Requirement already satisfied: jinja2 in /usr/local/lib/python3.10/dist-packages (from torch>=1.3.0->stanza) (3.1.4)\n",
            "Requirement already satisfied: fsspec in /usr/local/lib/python3.10/dist-packages (from torch>=1.3.0->stanza) (2024.6.1)\n",
            "Requirement already satisfied: charset-normalizer<4,>=2 in /usr/local/lib/python3.10/dist-packages (from requests->stanza) (3.3.2)\n",
            "Requirement already satisfied: idna<4,>=2.5 in /usr/local/lib/python3.10/dist-packages (from requests->stanza) (3.10)\n",
            "Requirement already satisfied: urllib3<3,>=1.21.1 in /usr/local/lib/python3.10/dist-packages (from requests->stanza) (2.2.3)\n",
            "Requirement already satisfied: certifi>=2017.4.17 in /usr/local/lib/python3.10/dist-packages (from requests->stanza) (2024.8.30)\n",
            "Requirement already satisfied: MarkupSafe>=2.0 in /usr/local/lib/python3.10/dist-packages (from jinja2->torch>=1.3.0->stanza) (2.1.5)\n",
            "Requirement already satisfied: mpmath<1.4,>=1.1.0 in /usr/local/lib/python3.10/dist-packages (from sympy->torch>=1.3.0->stanza) (1.3.0)\n",
            "Collecting dateparser\n",
            "  Downloading dateparser-1.2.0-py2.py3-none-any.whl.metadata (28 kB)\n",
            "Requirement already satisfied: python-dateutil in /usr/local/lib/python3.10/dist-packages (from dateparser) (2.8.2)\n",
            "Requirement already satisfied: pytz in /usr/local/lib/python3.10/dist-packages (from dateparser) (2024.2)\n",
            "Requirement already satisfied: regex!=2019.02.19,!=2021.8.27 in /usr/local/lib/python3.10/dist-packages (from dateparser) (2024.9.11)\n",
            "Requirement already satisfied: tzlocal in /usr/local/lib/python3.10/dist-packages (from dateparser) (5.2)\n",
            "Requirement already satisfied: six>=1.5 in /usr/local/lib/python3.10/dist-packages (from python-dateutil->dateparser) (1.16.0)\n",
            "Downloading dateparser-1.2.0-py2.py3-none-any.whl (294 kB)\n",
            "\u001b[2K   \u001b[90m━━━━━━━━━━━━━━━━━━━━━━━━━━━━━━━━━━━━━━━━\u001b[0m \u001b[32m295.0/295.0 kB\u001b[0m \u001b[31m6.0 MB/s\u001b[0m eta \u001b[36m0:00:00\u001b[0m\n",
            "\u001b[?25hInstalling collected packages: dateparser\n",
            "Successfully installed dateparser-1.2.0\n"
          ]
        }
      ]
    },
    {
      "cell_type": "code",
      "source": [
        "# imports\n",
        "import stanza\n",
        "from datetime import datetime # for manipulation of dates\n",
        "import dateparser # for advanced date parsing\n",
        "\n",
        "# initialization in english, tokenizes and assigns ner tags\n",
        "nlp = stanza.Pipeline(lang='en', processors='tokenize,ner')"
      ],
      "metadata": {
        "colab": {
          "base_uri": "https://localhost:8080/",
          "height": 556,
          "referenced_widgets": [
            "5c13e97dfede43fea5e056eff4eb7920",
            "058d60ddf27043eb9079d7cfeddb0287",
            "6c5aa951aa7f4a88a682055390a6fe3d",
            "50658dece5ef40379b14e16fcbd4e217",
            "1b30c316b54a4947a589a82d6500984a",
            "d656156f46d7417289dbe2b04db4f9eb",
            "f9b40e36e6ad43bf9c56d6a8ca24e47c",
            "7d1dbecb8dd54beb8a8a16dc78e39432",
            "c081bb89e0c742d28c301838208a1268",
            "78d6cbbef0564a739a05a92a3418964b",
            "aaf081ea2ac44a24a15ea780f5f5a4fa"
          ]
        },
        "id": "pdhoqX3xFTlm",
        "outputId": "e3111079-9ed0-432a-97a3-4285daa0b0f3"
      },
      "execution_count": null,
      "outputs": [
        {
          "output_type": "stream",
          "name": "stderr",
          "text": [
            "INFO:stanza:Checking for updates to resources.json in case models have been updated.  Note: this behavior can be turned off with download_method=None or download_method=DownloadMethod.REUSE_RESOURCES\n"
          ]
        },
        {
          "output_type": "display_data",
          "data": {
            "text/plain": [
              "Downloading https://raw.githubusercontent.com/stanfordnlp/stanza-resources/main/resources_1.9.0.json:   0%|   …"
            ],
            "application/vnd.jupyter.widget-view+json": {
              "version_major": 2,
              "version_minor": 0,
              "model_id": "5c13e97dfede43fea5e056eff4eb7920"
            }
          },
          "metadata": {}
        },
        {
          "output_type": "stream",
          "name": "stderr",
          "text": [
            "INFO:stanza:Downloaded file to /root/stanza_resources/resources.json\n",
            "WARNING:stanza:Language en package default expects mwt, which has been added\n",
            "INFO:stanza:Loading these models for language: en (English):\n",
            "=========================================\n",
            "| Processor | Package                   |\n",
            "-----------------------------------------\n",
            "| tokenize  | combined                  |\n",
            "| mwt       | combined                  |\n",
            "| ner       | ontonotes-ww-multi_charlm |\n",
            "=========================================\n",
            "\n",
            "INFO:stanza:Using device: cpu\n",
            "INFO:stanza:Loading: tokenize\n",
            "/usr/local/lib/python3.10/dist-packages/stanza/models/tokenization/trainer.py:82: FutureWarning: You are using `torch.load` with `weights_only=False` (the current default value), which uses the default pickle module implicitly. It is possible to construct malicious pickle data which will execute arbitrary code during unpickling (See https://github.com/pytorch/pytorch/blob/main/SECURITY.md#untrusted-models for more details). In a future release, the default value for `weights_only` will be flipped to `True`. This limits the functions that could be executed during unpickling. Arbitrary objects will no longer be allowed to be loaded via this mode unless they are explicitly allowlisted by the user via `torch.serialization.add_safe_globals`. We recommend you start setting `weights_only=True` for any use case where you don't have full control of the loaded file. Please open an issue on GitHub for any issues related to this experimental feature.\n",
            "  checkpoint = torch.load(filename, lambda storage, loc: storage)\n",
            "INFO:stanza:Loading: mwt\n",
            "/usr/local/lib/python3.10/dist-packages/stanza/models/mwt/trainer.py:201: FutureWarning: You are using `torch.load` with `weights_only=False` (the current default value), which uses the default pickle module implicitly. It is possible to construct malicious pickle data which will execute arbitrary code during unpickling (See https://github.com/pytorch/pytorch/blob/main/SECURITY.md#untrusted-models for more details). In a future release, the default value for `weights_only` will be flipped to `True`. This limits the functions that could be executed during unpickling. Arbitrary objects will no longer be allowed to be loaded via this mode unless they are explicitly allowlisted by the user via `torch.serialization.add_safe_globals`. We recommend you start setting `weights_only=True` for any use case where you don't have full control of the loaded file. Please open an issue on GitHub for any issues related to this experimental feature.\n",
            "  checkpoint = torch.load(filename, lambda storage, loc: storage)\n",
            "INFO:stanza:Loading: ner\n",
            "/usr/local/lib/python3.10/dist-packages/stanza/models/ner/trainer.py:197: FutureWarning: You are using `torch.load` with `weights_only=False` (the current default value), which uses the default pickle module implicitly. It is possible to construct malicious pickle data which will execute arbitrary code during unpickling (See https://github.com/pytorch/pytorch/blob/main/SECURITY.md#untrusted-models for more details). In a future release, the default value for `weights_only` will be flipped to `True`. This limits the functions that could be executed during unpickling. Arbitrary objects will no longer be allowed to be loaded via this mode unless they are explicitly allowlisted by the user via `torch.serialization.add_safe_globals`. We recommend you start setting `weights_only=True` for any use case where you don't have full control of the loaded file. Please open an issue on GitHub for any issues related to this experimental feature.\n",
            "  checkpoint = torch.load(filename, lambda storage, loc: storage)\n",
            "/usr/local/lib/python3.10/dist-packages/stanza/models/common/pretrain.py:56: FutureWarning: You are using `torch.load` with `weights_only=False` (the current default value), which uses the default pickle module implicitly. It is possible to construct malicious pickle data which will execute arbitrary code during unpickling (See https://github.com/pytorch/pytorch/blob/main/SECURITY.md#untrusted-models for more details). In a future release, the default value for `weights_only` will be flipped to `True`. This limits the functions that could be executed during unpickling. Arbitrary objects will no longer be allowed to be loaded via this mode unless they are explicitly allowlisted by the user via `torch.serialization.add_safe_globals`. We recommend you start setting `weights_only=True` for any use case where you don't have full control of the loaded file. Please open an issue on GitHub for any issues related to this experimental feature.\n",
            "  data = torch.load(self.filename, lambda storage, loc: storage)\n",
            "/usr/local/lib/python3.10/dist-packages/stanza/models/common/char_model.py:271: FutureWarning: You are using `torch.load` with `weights_only=False` (the current default value), which uses the default pickle module implicitly. It is possible to construct malicious pickle data which will execute arbitrary code during unpickling (See https://github.com/pytorch/pytorch/blob/main/SECURITY.md#untrusted-models for more details). In a future release, the default value for `weights_only` will be flipped to `True`. This limits the functions that could be executed during unpickling. Arbitrary objects will no longer be allowed to be loaded via this mode unless they are explicitly allowlisted by the user via `torch.serialization.add_safe_globals`. We recommend you start setting `weights_only=True` for any use case where you don't have full control of the loaded file. Please open an issue on GitHub for any issues related to this experimental feature.\n",
            "  state = torch.load(filename, lambda storage, loc: storage)\n",
            "INFO:stanza:Done loading processors!\n"
          ]
        }
      ]
    },
    {
      "cell_type": "code",
      "source": [
        "# gets document\n",
        "document = open('/Chronology_Facts_1.txt', 'r')\n",
        "document = document.read()\n",
        "\n",
        "# runs the nlp\n",
        "document_nlp = nlp(document)"
      ],
      "metadata": {
        "id": "Y3gBUoc_F3O_"
      },
      "execution_count": null,
      "outputs": []
    },
    {
      "cell_type": "code",
      "source": [
        "# function to do advanced date parsing\n",
        "def parse_advanced_date(date_text):\n",
        "  settings={\n",
        "      'DATE_ORDER': 'MDY',\n",
        "      'PREFER_DAY_OF_MONTH': 'first', # if no day, defaults to first of the month\n",
        "      'PREFER_MONTH_OF_YEAR': 'first' # if no month, defaults to January\n",
        "  }\n",
        "\n",
        "  # parses dates\n",
        "  parsed_date = dateparser.parse(date_text, settings=settings)\n",
        "\n",
        "  if parsed_date:\n",
        "    return parsed_date\n",
        "\n",
        "  return None"
      ],
      "metadata": {
        "id": "F7nrQH-UJGtG"
      },
      "execution_count": null,
      "outputs": []
    },
    {
      "cell_type": "code",
      "source": [
        "chronology = []\n",
        "curr_event = []\n",
        "\n",
        "# traverses every sentence\n",
        "for sentence in document_nlp.sentences:\n",
        "  date_found = None\n",
        "\n",
        "  # traverses the sentence's entities, extracts dates\n",
        "  for entity in sentence.ents:\n",
        "    if entity.type == 'DATE':\n",
        "      date_found = parse_advanced_date(entity.text)\n",
        "\n",
        "  sentence_txt = ' '.join([word.text for word in sentence.words])\n",
        "\n",
        "  # if a date is found, extract the text around it\n",
        "  if date_found:\n",
        "    chronology.append([date_found, sentence_txt])\n",
        "  else:\n",
        "    # saves the text so it can be used in relation to another date if need be\n",
        "    curr_event.append(sentence_txt)\n",
        "    if curr_event:\n",
        "      chronology.append([None, ' '.join(curr_event)])\n",
        "      curr_event = []"
      ],
      "metadata": {
        "id": "PhGr3lyHOOCd"
      },
      "execution_count": null,
      "outputs": []
    },
    {
      "cell_type": "code",
      "source": [
        "# does not seem to work properly...\n",
        "# so far the code that works the best is what yomna did with spacy\n",
        "\n",
        "# sorts by date\n",
        "dated_events = [item for item in chronology if item[0] is not None]\n",
        "dated_events = sorted(dated_events, key=lambda x: x[0])\n",
        "\n",
        "chronology = dated_events\n",
        "\n",
        "# print\n",
        "print('Chronology of Events:\\n')\n",
        "for date, event in chronology:\n",
        "  if date:\n",
        "    print(f'{date.strftime(\"%B %d, %Y\")}: {event}')"
      ],
      "metadata": {
        "colab": {
          "base_uri": "https://localhost:8080/"
        },
        "id": "XTb4yAzBPWIf",
        "outputId": "3c3187f5-ce79-43ac-bb92-1f8f2df352f2"
      },
      "execution_count": null,
      "outputs": [
        {
          "output_type": "stream",
          "name": "stdout",
          "text": [
            "Chronology of Events:\n",
            "\n",
            "December 10, 2020: The investigation report , released on May 15 , 2021 , corroborated the findings of ChemTest Labs , revealing that a batch of motor oil produced on December 10 , 2020 , contained a higher - than - acceptable level of Polymer X due to a manufacturing error .\n",
            "December 20, 2020: On September 5 , 2021 , the plaintiff 's legal team deposed LubriTech 's head of quality control , who admitted under oath that the company had identified the contamination on December 20 , 2020 , but decided against taking corrective action due to cost concerns .\n",
            "January 15, 2021: On January 15 , 2021 , the plaintiff , James Rosco , purchased a batch of motor oil branded as \" UltraGuard \" from a local retailer , AutoMart , located in Albany , New York .\n",
            "January 20, 2021: The plaintiff used the motor oil in his 2020 Ford Mustang on January 20 , 2021 , during a routine oil change performed at Speedy Lube , an auto service center in Albany .\n",
            "February 05, 2021: On February 5 , 2021 , the plaintiff began to notice unusual noises emanating from the engine of his vehicle .\n",
            "February 07, 2021: Concerned , he took the car back to Speedy Lube on February 7 , 2021 , where the mechanics conducted a preliminary inspection but found no immediate issues .\n",
            "February 15, 2021: However , the noises persisted , and on February 15 , 2021 , the plaintiff 's vehicle broke down on the New York State Thruway .\n",
            "February 16, 2021: The vehicle was towed to Albany Auto Repair on February 16 , 2021 .\n",
            "February 18, 2021: The plaintiff was informed of this diagnosis on February 18 , 2021 .\n",
            "March 01, 2021: On March 1 , 2021 , the plaintiff contacted LubriTech to report the issue and seek compensation for the damages .\n",
            "March 10, 2021: LubriTech responded on March 10 , 2021 , denying any fault and asserting that their product met all industry standards .\n",
            "March 25, 2021: The lab results , received on March 25 , 2021 , indicated that the motor oil contained an excessive amount of a chemical compound known as \" Polymer X , \" which is known to cause rapid degradation under high temperatures .\n",
            "April 02, 2021: On April 2 , 2021 , the plaintiff filed a complaint with the New York State Department of Consumer Protection , which initiated an investigation into LubriTech 's manufacturing processes .\n",
            "July 10, 2021: The case was assigned to Judge Emily Thompson , who scheduled the initial hearing for July 10 , 2021 .\n",
            "August 01, 2021: During the discovery phase , which commenced on 8/1/2021 , it was revealed that LubriTech had received multiple complaints about the same batch of motor oil .\n",
            "August 15, 2021: Internal emails from LubriTech , dated August 15 , 2021 , showed that the company was aware of the issue but chose not to issue a recall or notify consumers .\n",
            "October 31, 2021: On October 31 , 2021 , the jury returned a verdict in favor of the plaintiff , awarding him 100,000 in punitive damages .\n",
            "November 15, 2021: LubriTech filed an appeal on November 15 , 2021 , challenging both the verdict and the damages awarded .\n",
            "March 15, 2022: LubriTech then sought leave to appeal to the New York Court of Appeals , which was granted on March 15 , 2022 .\n",
            "June 10, 2024: The case is now before the New York Court of Appeals , with oral arguments scheduled for June 10 , 2024 .\n",
            "September 07, 2024: The trial commenced on October 10 , 2021 , and lasted for three weeks .\n"
          ]
        }
      ]
    },
    {
      "cell_type": "code",
      "source": [],
      "metadata": {
        "id": "5eodnDWEP8Ao"
      },
      "execution_count": null,
      "outputs": []
    }
  ]
}