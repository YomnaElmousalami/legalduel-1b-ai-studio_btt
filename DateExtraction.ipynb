{
  "nbformat": 4,
  "nbformat_minor": 0,
  "metadata": {
    "colab": {
      "provenance": [],
      "authorship_tag": "ABX9TyPS8FJWNwczPaqQl0HyD6Hf",
      "include_colab_link": true
    },
    "kernelspec": {
      "name": "python3",
      "display_name": "Python 3"
    },
    "language_info": {
      "name": "python"
    }
  },
  "cells": [
    {
      "cell_type": "markdown",
      "metadata": {
        "id": "view-in-github",
        "colab_type": "text"
      },
      "source": [
        "<a href=\"https://colab.research.google.com/github/tiffanyfu7/legalduel-1b-ai-studio/blob/main/DateExtraction.ipynb\" target=\"_parent\"><img src=\"https://colab.research.google.com/assets/colab-badge.svg\" alt=\"Open In Colab\"/></a>"
      ]
    },
    {
      "cell_type": "markdown",
      "source": [
        "Trying to extract dates from a document.\n",
        "Some methods may include SpaCy, Duckling (Meta), Spark, or Stanford CoreNLP. There may be other ways but try these ones first.\n",
        "\n"
      ],
      "metadata": {
        "id": "3PAoybl6iC6Z"
      }
    },
    {
      "cell_type": "markdown",
      "source": [
        "# SpaCy"
      ],
      "metadata": {
        "id": "B_FYQLYToozb"
      }
    },
    {
      "cell_type": "markdown",
      "source": [
        "https://www.qualicen.de/natural-language-processing-timeline-extraction-with-regexes-and-spacy/"
      ],
      "metadata": {
        "id": "2V2jf4T8cRwN"
      }
    },
    {
      "cell_type": "code",
      "source": [
        "# install\n",
        "def _pip_magic(line):\n",
        "  !pip install {line}\n",
        "\n",
        "_pip_magic('daterangeparser')\n",
        "_pip_magic('spacy')\n",
        "_pip_magic('en_core_web_sm')"
      ],
      "metadata": {
        "colab": {
          "base_uri": "https://localhost:8080/"
        },
        "id": "8QoPPKYwc25t",
        "outputId": "f2653a3e-a853-4356-c1eb-dc8d03e289a0",
        "collapsed": true
      },
      "execution_count": 27,
      "outputs": [
        {
          "output_type": "stream",
          "name": "stdout",
          "text": [
            "Collecting daterangeparser\n",
            "  Downloading DateRangeParser-1.3.2-py3-none-any.whl.metadata (1.5 kB)\n",
            "Requirement already satisfied: pyparsing in /usr/local/lib/python3.10/dist-packages (from daterangeparser) (3.1.4)\n",
            "Downloading DateRangeParser-1.3.2-py3-none-any.whl (23 kB)\n",
            "Installing collected packages: daterangeparser\n",
            "Successfully installed daterangeparser-1.3.2\n",
            "Requirement already satisfied: spacy in /usr/local/lib/python3.10/dist-packages (3.7.6)\n",
            "Requirement already satisfied: spacy-legacy<3.1.0,>=3.0.11 in /usr/local/lib/python3.10/dist-packages (from spacy) (3.0.12)\n",
            "Requirement already satisfied: spacy-loggers<2.0.0,>=1.0.0 in /usr/local/lib/python3.10/dist-packages (from spacy) (1.0.5)\n",
            "Requirement already satisfied: murmurhash<1.1.0,>=0.28.0 in /usr/local/lib/python3.10/dist-packages (from spacy) (1.0.10)\n",
            "Requirement already satisfied: cymem<2.1.0,>=2.0.2 in /usr/local/lib/python3.10/dist-packages (from spacy) (2.0.8)\n",
            "Requirement already satisfied: preshed<3.1.0,>=3.0.2 in /usr/local/lib/python3.10/dist-packages (from spacy) (3.0.9)\n",
            "Requirement already satisfied: thinc<8.3.0,>=8.2.2 in /usr/local/lib/python3.10/dist-packages (from spacy) (8.2.5)\n",
            "Requirement already satisfied: wasabi<1.2.0,>=0.9.1 in /usr/local/lib/python3.10/dist-packages (from spacy) (1.1.3)\n",
            "Requirement already satisfied: srsly<3.0.0,>=2.4.3 in /usr/local/lib/python3.10/dist-packages (from spacy) (2.4.8)\n",
            "Requirement already satisfied: catalogue<2.1.0,>=2.0.6 in /usr/local/lib/python3.10/dist-packages (from spacy) (2.0.10)\n",
            "Requirement already satisfied: weasel<0.5.0,>=0.1.0 in /usr/local/lib/python3.10/dist-packages (from spacy) (0.4.1)\n",
            "Requirement already satisfied: typer<1.0.0,>=0.3.0 in /usr/local/lib/python3.10/dist-packages (from spacy) (0.12.5)\n",
            "Requirement already satisfied: tqdm<5.0.0,>=4.38.0 in /usr/local/lib/python3.10/dist-packages (from spacy) (4.66.5)\n",
            "Requirement already satisfied: requests<3.0.0,>=2.13.0 in /usr/local/lib/python3.10/dist-packages (from spacy) (2.32.3)\n",
            "Requirement already satisfied: pydantic!=1.8,!=1.8.1,<3.0.0,>=1.7.4 in /usr/local/lib/python3.10/dist-packages (from spacy) (2.9.2)\n",
            "Requirement already satisfied: jinja2 in /usr/local/lib/python3.10/dist-packages (from spacy) (3.1.4)\n",
            "Requirement already satisfied: setuptools in /usr/local/lib/python3.10/dist-packages (from spacy) (71.0.4)\n",
            "Requirement already satisfied: packaging>=20.0 in /usr/local/lib/python3.10/dist-packages (from spacy) (24.1)\n",
            "Requirement already satisfied: langcodes<4.0.0,>=3.2.0 in /usr/local/lib/python3.10/dist-packages (from spacy) (3.4.0)\n",
            "Requirement already satisfied: numpy>=1.19.0 in /usr/local/lib/python3.10/dist-packages (from spacy) (1.26.4)\n",
            "Requirement already satisfied: language-data>=1.2 in /usr/local/lib/python3.10/dist-packages (from langcodes<4.0.0,>=3.2.0->spacy) (1.2.0)\n",
            "Requirement already satisfied: annotated-types>=0.6.0 in /usr/local/lib/python3.10/dist-packages (from pydantic!=1.8,!=1.8.1,<3.0.0,>=1.7.4->spacy) (0.7.0)\n",
            "Requirement already satisfied: pydantic-core==2.23.4 in /usr/local/lib/python3.10/dist-packages (from pydantic!=1.8,!=1.8.1,<3.0.0,>=1.7.4->spacy) (2.23.4)\n",
            "Requirement already satisfied: typing-extensions>=4.6.1 in /usr/local/lib/python3.10/dist-packages (from pydantic!=1.8,!=1.8.1,<3.0.0,>=1.7.4->spacy) (4.12.2)\n",
            "Requirement already satisfied: charset-normalizer<4,>=2 in /usr/local/lib/python3.10/dist-packages (from requests<3.0.0,>=2.13.0->spacy) (3.3.2)\n",
            "Requirement already satisfied: idna<4,>=2.5 in /usr/local/lib/python3.10/dist-packages (from requests<3.0.0,>=2.13.0->spacy) (3.10)\n",
            "Requirement already satisfied: urllib3<3,>=1.21.1 in /usr/local/lib/python3.10/dist-packages (from requests<3.0.0,>=2.13.0->spacy) (2.0.7)\n",
            "Requirement already satisfied: certifi>=2017.4.17 in /usr/local/lib/python3.10/dist-packages (from requests<3.0.0,>=2.13.0->spacy) (2024.8.30)\n",
            "Requirement already satisfied: blis<0.8.0,>=0.7.8 in /usr/local/lib/python3.10/dist-packages (from thinc<8.3.0,>=8.2.2->spacy) (0.7.11)\n",
            "Requirement already satisfied: confection<1.0.0,>=0.0.1 in /usr/local/lib/python3.10/dist-packages (from thinc<8.3.0,>=8.2.2->spacy) (0.1.5)\n",
            "Requirement already satisfied: click>=8.0.0 in /usr/local/lib/python3.10/dist-packages (from typer<1.0.0,>=0.3.0->spacy) (8.1.7)\n",
            "Requirement already satisfied: shellingham>=1.3.0 in /usr/local/lib/python3.10/dist-packages (from typer<1.0.0,>=0.3.0->spacy) (1.5.4)\n",
            "Requirement already satisfied: rich>=10.11.0 in /usr/local/lib/python3.10/dist-packages (from typer<1.0.0,>=0.3.0->spacy) (13.8.1)\n",
            "Requirement already satisfied: cloudpathlib<1.0.0,>=0.7.0 in /usr/local/lib/python3.10/dist-packages (from weasel<0.5.0,>=0.1.0->spacy) (0.19.0)\n",
            "Requirement already satisfied: smart-open<8.0.0,>=5.2.1 in /usr/local/lib/python3.10/dist-packages (from weasel<0.5.0,>=0.1.0->spacy) (7.0.4)\n",
            "Requirement already satisfied: MarkupSafe>=2.0 in /usr/local/lib/python3.10/dist-packages (from jinja2->spacy) (2.1.5)\n",
            "Requirement already satisfied: marisa-trie>=0.7.7 in /usr/local/lib/python3.10/dist-packages (from language-data>=1.2->langcodes<4.0.0,>=3.2.0->spacy) (1.2.0)\n",
            "Requirement already satisfied: markdown-it-py>=2.2.0 in /usr/local/lib/python3.10/dist-packages (from rich>=10.11.0->typer<1.0.0,>=0.3.0->spacy) (3.0.0)\n",
            "Requirement already satisfied: pygments<3.0.0,>=2.13.0 in /usr/local/lib/python3.10/dist-packages (from rich>=10.11.0->typer<1.0.0,>=0.3.0->spacy) (2.18.0)\n",
            "Requirement already satisfied: wrapt in /usr/local/lib/python3.10/dist-packages (from smart-open<8.0.0,>=5.2.1->weasel<0.5.0,>=0.1.0->spacy) (1.16.0)\n",
            "Requirement already satisfied: mdurl~=0.1 in /usr/local/lib/python3.10/dist-packages (from markdown-it-py>=2.2.0->rich>=10.11.0->typer<1.0.0,>=0.3.0->spacy) (0.1.2)\n",
            "Requirement already satisfied: en_core_web_sm in /usr/local/lib/python3.10/dist-packages (3.7.1)\n",
            "Requirement already satisfied: spacy<3.8.0,>=3.7.2 in /usr/local/lib/python3.10/dist-packages (from en_core_web_sm) (3.7.6)\n",
            "Requirement already satisfied: spacy-legacy<3.1.0,>=3.0.11 in /usr/local/lib/python3.10/dist-packages (from spacy<3.8.0,>=3.7.2->en_core_web_sm) (3.0.12)\n",
            "Requirement already satisfied: spacy-loggers<2.0.0,>=1.0.0 in /usr/local/lib/python3.10/dist-packages (from spacy<3.8.0,>=3.7.2->en_core_web_sm) (1.0.5)\n",
            "Requirement already satisfied: murmurhash<1.1.0,>=0.28.0 in /usr/local/lib/python3.10/dist-packages (from spacy<3.8.0,>=3.7.2->en_core_web_sm) (1.0.10)\n",
            "Requirement already satisfied: cymem<2.1.0,>=2.0.2 in /usr/local/lib/python3.10/dist-packages (from spacy<3.8.0,>=3.7.2->en_core_web_sm) (2.0.8)\n",
            "Requirement already satisfied: preshed<3.1.0,>=3.0.2 in /usr/local/lib/python3.10/dist-packages (from spacy<3.8.0,>=3.7.2->en_core_web_sm) (3.0.9)\n",
            "Requirement already satisfied: thinc<8.3.0,>=8.2.2 in /usr/local/lib/python3.10/dist-packages (from spacy<3.8.0,>=3.7.2->en_core_web_sm) (8.2.5)\n",
            "Requirement already satisfied: wasabi<1.2.0,>=0.9.1 in /usr/local/lib/python3.10/dist-packages (from spacy<3.8.0,>=3.7.2->en_core_web_sm) (1.1.3)\n",
            "Requirement already satisfied: srsly<3.0.0,>=2.4.3 in /usr/local/lib/python3.10/dist-packages (from spacy<3.8.0,>=3.7.2->en_core_web_sm) (2.4.8)\n",
            "Requirement already satisfied: catalogue<2.1.0,>=2.0.6 in /usr/local/lib/python3.10/dist-packages (from spacy<3.8.0,>=3.7.2->en_core_web_sm) (2.0.10)\n",
            "Requirement already satisfied: weasel<0.5.0,>=0.1.0 in /usr/local/lib/python3.10/dist-packages (from spacy<3.8.0,>=3.7.2->en_core_web_sm) (0.4.1)\n",
            "Requirement already satisfied: typer<1.0.0,>=0.3.0 in /usr/local/lib/python3.10/dist-packages (from spacy<3.8.0,>=3.7.2->en_core_web_sm) (0.12.5)\n",
            "Requirement already satisfied: tqdm<5.0.0,>=4.38.0 in /usr/local/lib/python3.10/dist-packages (from spacy<3.8.0,>=3.7.2->en_core_web_sm) (4.66.5)\n",
            "Requirement already satisfied: requests<3.0.0,>=2.13.0 in /usr/local/lib/python3.10/dist-packages (from spacy<3.8.0,>=3.7.2->en_core_web_sm) (2.32.3)\n",
            "Requirement already satisfied: pydantic!=1.8,!=1.8.1,<3.0.0,>=1.7.4 in /usr/local/lib/python3.10/dist-packages (from spacy<3.8.0,>=3.7.2->en_core_web_sm) (2.9.2)\n",
            "Requirement already satisfied: jinja2 in /usr/local/lib/python3.10/dist-packages (from spacy<3.8.0,>=3.7.2->en_core_web_sm) (3.1.4)\n",
            "Requirement already satisfied: setuptools in /usr/local/lib/python3.10/dist-packages (from spacy<3.8.0,>=3.7.2->en_core_web_sm) (71.0.4)\n",
            "Requirement already satisfied: packaging>=20.0 in /usr/local/lib/python3.10/dist-packages (from spacy<3.8.0,>=3.7.2->en_core_web_sm) (24.1)\n",
            "Requirement already satisfied: langcodes<4.0.0,>=3.2.0 in /usr/local/lib/python3.10/dist-packages (from spacy<3.8.0,>=3.7.2->en_core_web_sm) (3.4.0)\n",
            "Requirement already satisfied: numpy>=1.19.0 in /usr/local/lib/python3.10/dist-packages (from spacy<3.8.0,>=3.7.2->en_core_web_sm) (1.26.4)\n",
            "Requirement already satisfied: language-data>=1.2 in /usr/local/lib/python3.10/dist-packages (from langcodes<4.0.0,>=3.2.0->spacy<3.8.0,>=3.7.2->en_core_web_sm) (1.2.0)\n",
            "Requirement already satisfied: annotated-types>=0.6.0 in /usr/local/lib/python3.10/dist-packages (from pydantic!=1.8,!=1.8.1,<3.0.0,>=1.7.4->spacy<3.8.0,>=3.7.2->en_core_web_sm) (0.7.0)\n",
            "Requirement already satisfied: pydantic-core==2.23.4 in /usr/local/lib/python3.10/dist-packages (from pydantic!=1.8,!=1.8.1,<3.0.0,>=1.7.4->spacy<3.8.0,>=3.7.2->en_core_web_sm) (2.23.4)\n",
            "Requirement already satisfied: typing-extensions>=4.6.1 in /usr/local/lib/python3.10/dist-packages (from pydantic!=1.8,!=1.8.1,<3.0.0,>=1.7.4->spacy<3.8.0,>=3.7.2->en_core_web_sm) (4.12.2)\n",
            "Requirement already satisfied: charset-normalizer<4,>=2 in /usr/local/lib/python3.10/dist-packages (from requests<3.0.0,>=2.13.0->spacy<3.8.0,>=3.7.2->en_core_web_sm) (3.3.2)\n",
            "Requirement already satisfied: idna<4,>=2.5 in /usr/local/lib/python3.10/dist-packages (from requests<3.0.0,>=2.13.0->spacy<3.8.0,>=3.7.2->en_core_web_sm) (3.10)\n",
            "Requirement already satisfied: urllib3<3,>=1.21.1 in /usr/local/lib/python3.10/dist-packages (from requests<3.0.0,>=2.13.0->spacy<3.8.0,>=3.7.2->en_core_web_sm) (2.0.7)\n",
            "Requirement already satisfied: certifi>=2017.4.17 in /usr/local/lib/python3.10/dist-packages (from requests<3.0.0,>=2.13.0->spacy<3.8.0,>=3.7.2->en_core_web_sm) (2024.8.30)\n",
            "Requirement already satisfied: blis<0.8.0,>=0.7.8 in /usr/local/lib/python3.10/dist-packages (from thinc<8.3.0,>=8.2.2->spacy<3.8.0,>=3.7.2->en_core_web_sm) (0.7.11)\n",
            "Requirement already satisfied: confection<1.0.0,>=0.0.1 in /usr/local/lib/python3.10/dist-packages (from thinc<8.3.0,>=8.2.2->spacy<3.8.0,>=3.7.2->en_core_web_sm) (0.1.5)\n",
            "Requirement already satisfied: click>=8.0.0 in /usr/local/lib/python3.10/dist-packages (from typer<1.0.0,>=0.3.0->spacy<3.8.0,>=3.7.2->en_core_web_sm) (8.1.7)\n",
            "Requirement already satisfied: shellingham>=1.3.0 in /usr/local/lib/python3.10/dist-packages (from typer<1.0.0,>=0.3.0->spacy<3.8.0,>=3.7.2->en_core_web_sm) (1.5.4)\n",
            "Requirement already satisfied: rich>=10.11.0 in /usr/local/lib/python3.10/dist-packages (from typer<1.0.0,>=0.3.0->spacy<3.8.0,>=3.7.2->en_core_web_sm) (13.8.1)\n",
            "Requirement already satisfied: cloudpathlib<1.0.0,>=0.7.0 in /usr/local/lib/python3.10/dist-packages (from weasel<0.5.0,>=0.1.0->spacy<3.8.0,>=3.7.2->en_core_web_sm) (0.19.0)\n",
            "Requirement already satisfied: smart-open<8.0.0,>=5.2.1 in /usr/local/lib/python3.10/dist-packages (from weasel<0.5.0,>=0.1.0->spacy<3.8.0,>=3.7.2->en_core_web_sm) (7.0.4)\n",
            "Requirement already satisfied: MarkupSafe>=2.0 in /usr/local/lib/python3.10/dist-packages (from jinja2->spacy<3.8.0,>=3.7.2->en_core_web_sm) (2.1.5)\n",
            "Requirement already satisfied: marisa-trie>=0.7.7 in /usr/local/lib/python3.10/dist-packages (from language-data>=1.2->langcodes<4.0.0,>=3.2.0->spacy<3.8.0,>=3.7.2->en_core_web_sm) (1.2.0)\n",
            "Requirement already satisfied: markdown-it-py>=2.2.0 in /usr/local/lib/python3.10/dist-packages (from rich>=10.11.0->typer<1.0.0,>=0.3.0->spacy<3.8.0,>=3.7.2->en_core_web_sm) (3.0.0)\n",
            "Requirement already satisfied: pygments<3.0.0,>=2.13.0 in /usr/local/lib/python3.10/dist-packages (from rich>=10.11.0->typer<1.0.0,>=0.3.0->spacy<3.8.0,>=3.7.2->en_core_web_sm) (2.18.0)\n",
            "Requirement already satisfied: wrapt in /usr/local/lib/python3.10/dist-packages (from smart-open<8.0.0,>=5.2.1->weasel<0.5.0,>=0.1.0->spacy<3.8.0,>=3.7.2->en_core_web_sm) (1.16.0)\n",
            "Requirement already satisfied: mdurl~=0.1 in /usr/local/lib/python3.10/dist-packages (from markdown-it-py>=2.2.0->rich>=10.11.0->typer<1.0.0,>=0.3.0->spacy<3.8.0,>=3.7.2->en_core_web_sm) (0.1.2)\n"
          ]
        }
      ]
    },
    {
      "cell_type": "code",
      "source": [
        "# imports\n",
        "import re\n",
        "import spacy\n",
        "import requests\n",
        "import IPython\n",
        "from daterangeparser import parse"
      ],
      "metadata": {
        "id": "6ZBajRjuc-Kb"
      },
      "execution_count": 28,
      "outputs": []
    },
    {
      "cell_type": "code",
      "source": [
        "# import txt file\n",
        "chronology_facts_1 = open('/content/Chronology_Facts_1.txt', 'r')\n",
        "\n",
        "nlp = spacy.load('en_core_web_sm')\n",
        "doc_1 = nlp(chronology_facts_1.read())"
      ],
      "metadata": {
        "id": "ek9U5xz1o3dT"
      },
      "execution_count": 29,
      "outputs": []
    },
    {
      "cell_type": "code",
      "source": [
        "# named entities\n",
        "for ent in doc_1.ents:\n",
        "  print(\"{} -> {}\".format(ent.text,ent.label_))"
      ],
      "metadata": {
        "colab": {
          "base_uri": "https://localhost:8080/"
        },
        "id": "z4BkK_kjdb40",
        "outputId": "80bdd3a6-d035-445f-ab2d-81478f4edb1b",
        "collapsed": true
      },
      "execution_count": 30,
      "outputs": [
        {
          "output_type": "stream",
          "name": "stdout",
          "text": [
            "January 15, 2021 -> DATE\n",
            "James Rosco -> PERSON\n",
            "UltraGuard -> WORK_OF_ART\n",
            "AutoMart -> PRODUCT\n",
            "Albany -> GPE\n",
            "New York -> GPE\n",
            "LubriTech Industries, Inc. -> ORG\n",
            "LubriTech -> ORG\n",
            "2020 -> DATE\n",
            "Ford -> GPE\n",
            "January 20, 2021 -> DATE\n",
            "Speedy Lube -> PRODUCT\n",
            "Albany -> GPE\n",
            "February 5, 2021 -> DATE\n",
            "Speedy Lube -> PERSON\n",
            "February 7, 2021 -> DATE\n",
            "February 15, 2021 -> DATE\n",
            "the New York State Thruway -> ORG\n",
            "Three days later -> DATE\n",
            "Albany Auto Repair -> ORG\n",
            "February 16, 2021 -> DATE\n",
            "February 18, 2021 -> DATE\n",
            "March 1, 2021 -> DATE\n",
            "LubriTech -> ORG\n",
            "LubriTech -> ORG\n",
            "March 10, 2021 -> DATE\n",
            "ChemTest Labs -> PERSON\n",
            "March 25, 2021 -> DATE\n",
            "April 2, 2021 -> DATE\n",
            "the New York State Department of Consumer Protection -> ORG\n",
            "LubriTech -> ORG\n",
            "May 15, 2021 -> DATE\n",
            "ChemTest Labs -> ORG\n",
            "December 10, 2020 -> DATE\n",
            "the end of that month -> DATE\n",
            "the day before June 2, 2021 -> DATE\n",
            "LubriTech -> ORG\n",
            "the Supreme Court of New York -> ORG\n",
            "Albany County -> GPE\n",
            "Emily Thompson -> PERSON\n",
            "July 10, 2021 -> DATE\n",
            "8/1/2021 -> DATE\n",
            "LubriTech -> ORG\n",
            "LubriTech -> ORG\n",
            "August 15, 2021 -> DATE\n",
            "September 5, 2021 -> DATE\n",
            "LubriTech -> ORG\n",
            "December 20, 2020 -> DATE\n",
            "LubriTech -> ORG\n",
            "October 10, 2021 -> DATE\n",
            "three weeks -> DATE\n",
            "October 31, 2021 -> DATE\n",
            "100,000 -> CARDINAL\n",
            "LubriTech -> ORG\n",
            "November 15, 2021 -> DATE\n",
            "The Appellate Division -> ORG\n",
            "January 10, 2022 -> DATE\n",
            "two weeks -> DATE\n",
            "three days later -> DATE\n",
            "LubriTech -> ORG\n",
            "the New York Court of Appeals -> ORG\n",
            "March 15, 2022 -> DATE\n",
            "Three days later -> DATE\n",
            "the New York Court of Appeals -> ORG\n",
            "June 10, 2024 -> DATE\n",
            "LubriTech -> ORG\n"
          ]
        }
      ]
    },
    {
      "cell_type": "code",
      "source": [
        "# date entities\n",
        "for ent in filter(lambda e: e.label_==\"DATE\", doc_1.ents):\n",
        "  print(ent.text)"
      ],
      "metadata": {
        "colab": {
          "base_uri": "https://localhost:8080/"
        },
        "id": "LO4P1THadgqb",
        "outputId": "50154aa0-d351-46aa-a440-60dca5b991a8"
      },
      "execution_count": 31,
      "outputs": [
        {
          "output_type": "stream",
          "name": "stdout",
          "text": [
            "January 15, 2021\n",
            "2020\n",
            "January 20, 2021\n",
            "February 5, 2021\n",
            "February 7, 2021\n",
            "February 15, 2021\n",
            "Three days later\n",
            "February 16, 2021\n",
            "February 18, 2021\n",
            "March 1, 2021\n",
            "March 10, 2021\n",
            "March 25, 2021\n",
            "April 2, 2021\n",
            "May 15, 2021\n",
            "December 10, 2020\n",
            "the end of that month\n",
            "the day before June 2, 2021\n",
            "July 10, 2021\n",
            "8/1/2021\n",
            "August 15, 2021\n",
            "September 5, 2021\n",
            "December 20, 2020\n",
            "October 10, 2021\n",
            "three weeks\n",
            "October 31, 2021\n",
            "November 15, 2021\n",
            "January 10, 2022\n",
            "two weeks\n",
            "three days later\n",
            "March 15, 2022\n",
            "Three days later\n",
            "June 10, 2024\n"
          ]
        }
      ]
    },
    {
      "cell_type": "code",
      "source": [
        "def dep_subtree(token, dep):\n",
        "  deps =[child.dep_ for child in token.children]\n",
        "  child=next(filter(lambda c: c.dep_==dep, token.children), None)\n",
        "  if child != None:\n",
        "    return \" \".join([c.text for c in child.subtree])\n",
        "  else:\n",
        "    return \"\""
      ],
      "metadata": {
        "id": "CyH5B8JrJDfC"
      },
      "execution_count": 18,
      "outputs": []
    },
    {
      "cell_type": "code",
      "source": [
        "p = re.compile(r'\\[\\d+\\]')"
      ],
      "metadata": {
        "id": "SftChNFqKny9"
      },
      "execution_count": 33,
      "outputs": []
    },
    {
      "cell_type": "code",
      "source": [
        "def extract_events_regex(line):\n",
        "  matches = []\n",
        "  # capture thee digit and four digit years (1975) and ranges (1975-1976)\n",
        "  found = re.findall('In (\\d\\d\\d\\d?[/\\–]?\\d?\\d?\\d?\\d?),? ?([^\\\\.]*)', line)\n",
        "  try:\n",
        "    matches = matches + list(map(lambda f: (f[0] if len(f[0])>3 else \"0\"+f[0] ,f[0],f[1]),found))\n",
        "  except:\n",
        "   return []\n",
        "  return matches"
      ],
      "metadata": {
        "id": "2cHubzHdMigP"
      },
      "execution_count": 36,
      "outputs": []
    },
    {
      "cell_type": "code",
      "source": [
        "def extract_events_spacy(line):\n",
        "  line=p.sub('', line)\n",
        "  events = []\n",
        "  doc = nlp(line)\n",
        "  for ent in filter(lambda e: e.label_=='DATE',doc.ents):\n",
        "    try:\n",
        "      start,end = parse(ent.text)\n",
        "    except:\n",
        "      # could not parse the dates, hence ignore it\n",
        "      continue\n",
        "    current = ent.root\n",
        "    while current.dep_ != \"ROOT\":\n",
        "      current = current.head\n",
        "    desc = \" \".join(filter(None,[\n",
        "                                 dep_subtree(current,\"nsubj\"),\n",
        "                                 dep_subtree(current,\"nsubjpass\"),\n",
        "                                 dep_subtree(current,\"auxpass\"),\n",
        "                                 dep_subtree(current,\"amod\"),\n",
        "                                 dep_subtree(current,\"det\"),\n",
        "                                 current.text,\n",
        "                                 dep_subtree(current,\"acl\"),\n",
        "                                 dep_subtree(current,\"dobj\"),\n",
        "                                 dep_subtree(current,\"attr\"),\n",
        "                                 dep_subtree(current,\"advmod\")]))\n",
        "    events = events + [(start,ent.text,desc)]\n",
        "  return events"
      ],
      "metadata": {
        "id": "NCZXMhBGKCyO"
      },
      "execution_count": 37,
      "outputs": []
    },
    {
      "cell_type": "code",
      "source": [
        "with open('/content/Chronology_Facts_1.txt', 'r') as f: # Open the file in read mode\n",
        "  text = f.read()  # Read the entire file\n",
        "  extract_events_spacy(text)"
      ],
      "metadata": {
        "id": "XpXKIq_MKIvd"
      },
      "execution_count": 41,
      "outputs": []
    },
    {
      "cell_type": "code",
      "source": [
        "extract_events_spacy(\"Facts of the Case On January 15, 2021, the plaintiff, James Rosco, purchased a batch of motor oil branded as 'UltraGuard' from a local retailer, AutoMart, located in Albany, New York. The motor oil was manufactured by the defendant, LubriTech Industries, Inc. ('LubriTech'). The plaintiff used the motor oil in his 2020 Ford Mustang on January 20, 2021, during a routine oil change performed at Speedy Lube, an auto service center in Albany. On February 5, 2021, the plaintiff began to notice unusual noises emanating from the engine of his vehicle. Concerned, he took the car back to Speedy Lube on February 7, 2021, where the mechanics conducted a preliminary inspection but found no immediate issues. However, the noises persisted, and on February 15, 2021, the plaintiff's vehicle broke down on the New York State Thruway. Three days later the plaintiff changed the license plates on the car. The vehicle was towed to Albany Auto Repair on February 16, 2021. After a thorough inspection, the mechanics discovered significant engine damage, which they attributed to the motor oil used during the last oil change. The plaintiff was informed of this diagnosis on February 18, 2021. The mechanics noted that the motor oil appeared to have degraded prematurely, causing insufficient lubrication and leading to engine failure. On March 1, 2021, the plaintiff contacted LubriTech to report the issue and seek compensation for the damages. LubriTech responded on March 10, 2021, denying any fault and asserting that their product met all industry standards. The plaintiff then commissioned an independent laboratory, ChemTest Labs, to analyze the motor oil. The lab results, received on March 25, 2021, indicated that the motor oil contained an excessive amount of a chemical compound known as 'Polymer X,' which is known to cause rapid degradation under high temperatures. On April 2, 2021, the plaintiff filed a complaint with the New York State Department of Consumer Protection, which initiated an investigation into LubriTech's manufacturing processes. The investigation report, released on May 15, 2021, corroborated the findings of ChemTest Labs, revealing that a batch of motor oil produced on December 10, 2020, contained a higher-than-acceptable level of Polymer X due to a manufacturing error. The report was produced at the end of that month. On the day before June 2, 2021, the plaintiff filed a lawsuit against LubriTech in the Supreme Court of New York, Albany County, seeking damages for the cost of engine repairs, loss of use of the vehicle, and other related expenses. The case was assigned to Judge Emily Thompson, who scheduled the initial hearing for July 10, 2021. During the discovery phase, which commenced on 8/1/2021, it was revealed that LubriTech had received multiple complaints about the same batch of motor oil. Internal emails from LubriTech, dated August 15, 2021, showed that the company was aware of the issue but chose not to issue a recall or notify consumers. On September 5, 2021, the plaintiffs legal team deposed LubriTechs head of quality control, who admitted under oath that the company had identified the contamination on December 20, 2020, but decided against taking corrective action due to cost concerns. This testimony was pivotal in establishing LubriTech's knowledge and negligence. The trial commenced on October 10, 2021, and lasted for three weeks. On October 31, 2021, the jury returned a verdict in favor of the plaintiff, awarding him 100,000 in punitive damages. LubriTech filed an appeal on November 15, 2021, challenging both the verdict and the damages awarded. The Appellate Division, Third Department, heard the appeal on January 10, 2022, and issued a decision two weeks and three days later, affirming the lower court's ruling. LubriTech then sought leave to appeal to the New York Court of Appeals, which was granted on March 15, 2022. Three days later, the Chief Justice remarked that the appellate lawyers was going to be disbarred for improper conduct.  The case is now before the New York Court of Appeals, with oral arguments scheduled for June 10, 2024. The plaintiff contends that LubriTech's actions constituted gross negligence and seeks to uphold the lower courts' decisions. The defendant argues that the damages awarded were excessive and that the plaintiff failed to prove causation adequately. This case presents significant questions regarding product liability and corporate responsibility, particularly in the context of consumer safety and the duty to inform. The outcome will have far-reaching implications for manufacturers and consumers alike.\")"
      ],
      "metadata": {
        "colab": {
          "base_uri": "https://localhost:8080/"
        },
        "id": "ddUDYN1pNdYK",
        "outputId": "fe07fc6b-5d10-49b9-83df-de6bdd552d6d"
      },
      "execution_count": 43,
      "outputs": [
        {
          "output_type": "execute_result",
          "data": {
            "text/plain": [
              "[(datetime.datetime(2021, 1, 15, 0, 0),\n",
              "  'January 15, 2021',\n",
              "  \"Facts of the Case purchased a batch of motor oil branded as ' UltraGuard '\"),\n",
              " (datetime.datetime(2021, 1, 20, 0, 0),\n",
              "  'January 20, 2021',\n",
              "  'The plaintiff used the motor oil'),\n",
              " (datetime.datetime(2021, 2, 5, 0, 0),\n",
              "  'February 5, 2021',\n",
              "  'the plaintiff began'),\n",
              " (datetime.datetime(2021, 2, 7, 0, 0),\n",
              "  'February 7, 2021',\n",
              "  'he took the car back to Speedy Lube'),\n",
              " (datetime.datetime(2021, 2, 15, 0, 0),\n",
              "  'February 15, 2021',\n",
              "  'the noises persisted However'),\n",
              " (datetime.datetime(2021, 2, 16, 0, 0),\n",
              "  'February 16, 2021',\n",
              "  'The vehicle was towed'),\n",
              " (datetime.datetime(2021, 2, 18, 0, 0),\n",
              "  'February 18, 2021',\n",
              "  'The plaintiff was informed'),\n",
              " (datetime.datetime(2021, 3, 1, 0, 0),\n",
              "  'March 1, 2021',\n",
              "  'the plaintiff contacted LubriTech'),\n",
              " (datetime.datetime(2021, 3, 10, 0, 0),\n",
              "  'March 10, 2021',\n",
              "  'LubriTech responded'),\n",
              " (datetime.datetime(2021, 3, 25, 0, 0),\n",
              "  'March 25, 2021',\n",
              "  'The lab results , received on March 25 , 2021 , indicated'),\n",
              " (datetime.datetime(2021, 4, 2, 0, 0),\n",
              "  'April 2, 2021',\n",
              "  \"the plaintiff filed a complaint with the New York State Department of Consumer Protection , which initiated an investigation into LubriTech 's manufacturing processes\"),\n",
              " (datetime.datetime(2021, 5, 15, 0, 0),\n",
              "  'May 15, 2021',\n",
              "  'The investigation report , released on May 15 , 2021 , corroborated the findings of ChemTest Labs'),\n",
              " (datetime.datetime(2020, 12, 10, 0, 0),\n",
              "  'December 10, 2020',\n",
              "  'The investigation report , released on May 15 , 2021 , corroborated the findings of ChemTest Labs'),\n",
              " (datetime.datetime(2021, 7, 10, 0, 0),\n",
              "  'July 10, 2021',\n",
              "  'The case was assigned'),\n",
              " (datetime.datetime(2021, 8, 15, 0, 0),\n",
              "  'August 15, 2021',\n",
              "  'Internal emails from LubriTech , dated August 15 , 2021 , showed'),\n",
              " (datetime.datetime(2021, 9, 5, 0, 0),\n",
              "  'September 5, 2021',\n",
              "  'the plaintiffs legal team deposed LubriTechs head of quality control , who admitted under oath that the company had identified the contamination on December 20 , 2020'),\n",
              " (datetime.datetime(2020, 12, 20, 0, 0),\n",
              "  'December 20, 2020',\n",
              "  'the plaintiffs legal team deposed LubriTechs head of quality control , who admitted under oath that the company had identified the contamination on December 20 , 2020'),\n",
              " (datetime.datetime(2021, 10, 10, 0, 0),\n",
              "  'October 10, 2021',\n",
              "  'The trial commenced on October 10 , 2021 , and lasted'),\n",
              " (datetime.datetime(2021, 10, 31, 0, 0),\n",
              "  'October 31, 2021',\n",
              "  'the jury returned a verdict in favor of the plaintiff'),\n",
              " (datetime.datetime(2021, 11, 15, 0, 0),\n",
              "  'November 15, 2021',\n",
              "  'LubriTech filed an appeal'),\n",
              " (datetime.datetime(2022, 1, 10, 0, 0),\n",
              "  'January 10, 2022',\n",
              "  'The Appellate Division , Third Department , heard the appeal'),\n",
              " (datetime.datetime(2022, 3, 15, 0, 0),\n",
              "  'March 15, 2022',\n",
              "  'LubriTech sought leave then'),\n",
              " (datetime.datetime(2024, 6, 10, 0, 0), 'June 10, 2024', 'The case is now')]"
            ]
          },
          "metadata": {},
          "execution_count": 43
        }
      ]
    },
    {
      "cell_type": "markdown",
      "source": [
        "# Duckling"
      ],
      "metadata": {
        "id": "_gCfm1UioyGq"
      }
    },
    {
      "cell_type": "markdown",
      "source": [
        "https://github.com/facebook/duckling"
      ],
      "metadata": {
        "id": "iG8ZPqjtQwR9"
      }
    },
    {
      "cell_type": "code",
      "source": [],
      "metadata": {
        "id": "V8MwmC5bo0_h"
      },
      "execution_count": null,
      "outputs": []
    },
    {
      "cell_type": "markdown",
      "source": [],
      "metadata": {
        "id": "z8WbgWAOo1pL"
      }
    },
    {
      "cell_type": "markdown",
      "source": [
        "# Spark"
      ],
      "metadata": {
        "id": "ugF81LmVo4ot"
      }
    },
    {
      "cell_type": "markdown",
      "source": [
        "https://www.johnsnowlabs.com/extracting-exact-dates-from-natural-language-text/#:~:text=DateMatcher%20and%20MultiDateMatcher%20are%20rule,their%20performances%20are%20the%20same."
      ],
      "metadata": {
        "id": "xDutTJuTQ5Ep"
      }
    },
    {
      "cell_type": "code",
      "source": [],
      "metadata": {
        "id": "bmdcsyEBo6re"
      },
      "execution_count": null,
      "outputs": []
    },
    {
      "cell_type": "markdown",
      "source": [
        "# Stanford CoreNLP"
      ],
      "metadata": {
        "id": "tXAsLZlCo7s_"
      }
    },
    {
      "cell_type": "markdown",
      "source": [
        "https://datascience.stackexchange.com/questions/45854/date-extraction-in-python"
      ],
      "metadata": {
        "id": "aCA45uHRRBfC"
      }
    },
    {
      "cell_type": "code",
      "source": [],
      "metadata": {
        "id": "MfMCe-Hao-DB"
      },
      "execution_count": null,
      "outputs": []
    }
  ]
}